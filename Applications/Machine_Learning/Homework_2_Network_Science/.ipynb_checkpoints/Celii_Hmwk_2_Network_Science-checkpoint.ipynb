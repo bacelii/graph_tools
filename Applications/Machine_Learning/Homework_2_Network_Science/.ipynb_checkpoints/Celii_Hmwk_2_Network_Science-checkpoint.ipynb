{
 "cells": [
  {
   "cell_type": "code",
   "execution_count": null,
   "metadata": {},
   "outputs": [],
   "source": [
    "\"\"\"\n",
    "COMP 559 Homework 2 on Exploring network science\n",
    "\n",
    "\"\"\""
   ]
  },
  {
   "cell_type": "code",
   "execution_count": 12,
   "metadata": {},
   "outputs": [
    {
     "name": "stdout",
     "output_type": "stream",
     "text": [
      "The autoreload extension is already loaded. To reload it, use:\n",
      "  %reload_ext autoreload\n"
     ]
    }
   ],
   "source": [
    "%load_ext autoreload\n",
    "%autoreload 2"
   ]
  },
  {
   "cell_type": "markdown",
   "metadata": {},
   "source": [
    "# importing modules"
   ]
  },
  {
   "cell_type": "code",
   "execution_count": 2,
   "metadata": {},
   "outputs": [],
   "source": [
    "from os import sys\n",
    "sys.path.append(\"../../../graph_tools\")\n",
    "sys.path.append(\"../../../python_tools/python_tools/\")"
   ]
  },
  {
   "cell_type": "code",
   "execution_count": 10,
   "metadata": {},
   "outputs": [],
   "source": [
    "import networkx_utils as xu\n",
    "import graph_statistics as gs\n",
    "import graph_preprocessing as gpre\n",
    "import networkx as nx"
   ]
  },
  {
   "cell_type": "markdown",
   "metadata": {},
   "source": [
    "# Loading Dataset"
   ]
  },
  {
   "cell_type": "code",
   "execution_count": 5,
   "metadata": {},
   "outputs": [],
   "source": [
    "import system_utils as su\n",
    "G = su.decompress_pickle(\"../../../Data/G_query_v6_filtered.pbz2\")"
   ]
  },
  {
   "cell_type": "code",
   "execution_count": 6,
   "metadata": {},
   "outputs": [
    {
     "name": "stdout",
     "output_type": "stream",
     "text": [
      " Graph: # of nodes = 57458, # of edges = 1904155\n"
     ]
    }
   ],
   "source": [
    "xu.print_node_edges_counts(G)"
   ]
  },
  {
   "cell_type": "markdown",
   "metadata": {},
   "source": [
    "# Preprocessing the Dataset"
   ]
  },
  {
   "cell_type": "code",
   "execution_count": 16,
   "metadata": {},
   "outputs": [
    {
     "name": "stdout",
     "output_type": "stream",
     "text": [
      "After sampling: \n",
      " Graph: # of nodes = 5000, # of edges = 13597\n",
      "Largest connected component size = 3592\n",
      "After sampling to 5000\n",
      " Graph: # of nodes = 3592, # of edges = 13527\n"
     ]
    }
   ],
   "source": [
    "n_sample = 5_000\n",
    "G_pre = gpre.random_subgraph(G,size = n_sample,verbose =True, return_largest_component=True)\n",
    "print(f\"After sampling to {n_sample}\")\n",
    "xu.print_node_edges_counts(G_pre)\n",
    "G_simple = nx.Graph(G_pre)"
   ]
  },
  {
   "cell_type": "markdown",
   "metadata": {},
   "source": [
    "# Problem 1"
   ]
  },
  {
   "cell_type": "markdown",
   "metadata": {},
   "source": [
    "# Part A: Describe the meaning and number of vertices,edges and attributes in our network"
   ]
  },
  {
   "cell_type": "code",
   "execution_count": 17,
   "metadata": {},
   "outputs": [
    {
     "data": {
      "text/plain": [
       "'\\nvertices: neurons in the 1 mm^3 volume of mouse visual cortex imaged\\nedges: The synaptic connections between a presynaptic and postsynaptic neuron (implies a communicaiton link)\\n\\nvertices attributes: properties of the morphology of the neuron. Example (but not limited to): \\n- spine density\\n- synaptic density\\n- classification: excitatory/inhibitory\\n- skeletal length (a relative size measurement)\\n\\nedge attributes: properties of the synpatic connection. Example: \\n- volume of synapse\\n- presynaptic/postsynaptic compartment (ex: apical, axon, basal) where synapse is located\\n- skeletal walk distance from presynaptic/postsynaptic cell body to synaptic connection\\n\\n'"
      ]
     },
     "execution_count": 17,
     "metadata": {},
     "output_type": "execute_result"
    }
   ],
   "source": [
    "\"\"\"\n",
    "vertices: neurons in the 1 mm^3 volume of mouse visual cortex imaged\n",
    "edges: The synaptic connections between a presynaptic and postsynaptic neuron (implies a communicaiton link)\n",
    "\n",
    "vertices attributes: properties of the morphology of the neuron. Example (but not limited to): \n",
    "- spine density\n",
    "- synaptic density\n",
    "- classification: excitatory/inhibitory\n",
    "- skeletal length (a relative size measurement)\n",
    "\n",
    "edge attributes: properties of the synpatic connection. Example: \n",
    "- volume of synapse\n",
    "- presynaptic/postsynaptic compartment (ex: apical, axon, basal) where synapse is located\n",
    "- skeletal walk distance from presynaptic/postsynaptic cell body to synaptic connection\n",
    "\n",
    "\"\"\""
   ]
  },
  {
   "cell_type": "code",
   "execution_count": 18,
   "metadata": {},
   "outputs": [
    {
     "name": "stdout",
     "output_type": "stream",
     "text": [
      " Graph: # of nodes = 3592, # of edges = 8206\n"
     ]
    }
   ],
   "source": [
    "xu.print_node_edges_counts(G_simple)"
   ]
  },
  {
   "cell_type": "markdown",
   "metadata": {},
   "source": [
    "# Part B: Compute the networks degree distribution, clustering coefficient and diameter"
   ]
  },
  {
   "cell_type": "code",
   "execution_count": 19,
   "metadata": {},
   "outputs": [],
   "source": [
    "import graph_statistics as gs\n",
    "import graph_visualizations as gviz"
   ]
  },
  {
   "cell_type": "markdown",
   "metadata": {},
   "source": [
    "# Degree Distribution"
   ]
  },
  {
   "cell_type": "code",
   "execution_count": 20,
   "metadata": {},
   "outputs": [
    {
     "name": "stdout",
     "output_type": "stream",
     "text": [
      "MICrONS neural dataset in_and_out degree distribution mean = 4.035264483627204,\n",
      "MICrONS neural dataset in_and_out degree distribution median = 2.0\n"
     ]
    },
    {
     "data": {
      "image/png": "[encoded data removed]",
      "text/plain": [
       "<Figure size 432x288 with 1 Axes>"
      ]
     },
     "metadata": {
      "needs_background": "light"
     },
     "output_type": "display_data"
    },
    {
     "name": "stdout",
     "output_type": "stream",
     "text": [
      "MICrONS neural dataset in distribution can't be graphed\n",
      "MICrONS neural dataset out distribution can't be graphed\n"
     ]
    },
    {
     "data": {
      "text/plain": [
       "{'in_and_out_mean': 4.035264483627204,\n",
       " 'in_and_out_median': 2.0,\n",
       " 'in_mean': None,\n",
       " 'in_median': None,\n",
       " 'out_mean': None,\n",
       " 'out_median': None}"
      ]
     },
     "execution_count": 20,
     "metadata": {},
     "output_type": "execute_result"
    }
   ],
   "source": [
    "gs.degree_distribution_analysis(G_simple,graph_title = \"MICrONS neural dataset\")"
   ]
  },
  {
   "cell_type": "markdown",
   "metadata": {},
   "source": [
    "# Transitivity"
   ]
  },
  {
   "cell_type": "code",
   "execution_count": 21,
   "metadata": {},
   "outputs": [
    {
     "name": "stdout",
     "output_type": "stream",
     "text": [
      "G_transitivity= 0.028442115292996666\n"
     ]
    }
   ],
   "source": [
    "import networkx as nx\n",
    "\n",
    "G_transitivity = gs.transitivity(G_simple)\n",
    "print(f\"G_transitivity= {G_transitivity}\")"
   ]
  },
  {
   "cell_type": "markdown",
   "metadata": {},
   "source": [
    "# Diameter (the longest shortest path)"
   ]
  },
  {
   "cell_type": "code",
   "execution_count": 23,
   "metadata": {},
   "outputs": [
    {
     "name": "stdout",
     "output_type": "stream",
     "text": [
      "G_diam = 14\n"
     ]
    }
   ],
   "source": [
    "G_diam = gs.diameter(G_simple)\n",
    "print(f\"G_diam = {G_diam}\")"
   ]
  },
  {
   "cell_type": "markdown",
   "metadata": {},
   "source": [
    "# Problem 2"
   ]
  },
  {
   "cell_type": "code",
   "execution_count": 36,
   "metadata": {},
   "outputs": [],
   "source": [
    "verbose = True\n",
    "import numpy as np"
   ]
  },
  {
   "cell_type": "code",
   "execution_count": 31,
   "metadata": {},
   "outputs": [
    {
     "data": {
      "image/png": "[encoded data removed]",
      "text/plain": [
       "<Figure size 432x288 with 1 Axes>"
      ]
     },
     "metadata": {},
     "output_type": "display_data"
    }
   ],
   "source": [
    "edge_list = []\n",
    "for k in range(3):\n",
    "    curr_node_name = 4*k\n",
    "    edge_list += [[curr_node_name,curr_node_name+j] for j in range(1,4)]\n",
    "    \n",
    "B = nx.from_edgelist(edge_list)\n",
    "node_names = list(B.nodes())\n",
    "nx.draw(B,with_labels = True)"
   ]
  },
  {
   "cell_type": "code",
   "execution_count": 32,
   "metadata": {},
   "outputs": [
    {
     "name": "stdout",
     "output_type": "stream",
     "text": [
      "Numer all possible edges = 66\n",
      "number of missing edges = 57\n"
     ]
    }
   ],
   "source": [
    "\"\"\"\n",
    "Purpose: Find all the missing edges of B\n",
    "in comparison to a complete graph with 12 nodes\n",
    "\"\"\"\n",
    "\n",
    "import numpy_utils as nu\n",
    "\n",
    "all_possible_edges = nu.all_unique_choose_2_combinations(node_names)\n",
    "if verbose:\n",
    "    print(f\"Numer all possible edges = {len(all_possible_edges)}\")\n",
    "    \n",
    "missing_edges = nu.setdiff2d(all_possible_edges,edge_list)\n",
    "if verbose:\n",
    "    print(f\"number of missing edges = {len(missing_edges)}\")"
   ]
  },
  {
   "cell_type": "code",
   "execution_count": 39,
   "metadata": {},
   "outputs": [
    {
     "name": "stdout",
     "output_type": "stream",
     "text": [
      "node_degrees = [3, 1, 1, 1, 3, 1, 1, 1, 3, 1, 1, 1]\n",
      "Probabiites of connection:\n",
      "Max probability = [0 4]\n",
      "Min probability = [1 2]\n"
     ]
    }
   ],
   "source": [
    "\"\"\"\n",
    "Compute the probabilites for all of the missing edges\n",
    "\n",
    "\"\"\"\n",
    "node_degrees = [xu.get_node_degree(B,k) for k in node_names]\n",
    "if verbose:\n",
    "    print(f\"node_degrees = {node_degrees}\")\n",
    "    \n",
    "prob_connection = np.array([node_degrees[k[0]]*node_degrees[k[1]] for k in missing_edges])\n",
    "prob_connection = prob_connection/np.sum(prob_connection)\n",
    "\n",
    "if verbose:\n",
    "    print(f\"Probabiites of connection:\")\n",
    "#     for k,prob in zip(missing_edges,prob_connection):\n",
    "#         print(f\"Edge {k}: {prob}\")\n",
    "    print(f\"Max probability = {missing_edges[np.argmax(prob_connection)]}\")\n",
    "    print(f\"Min probability = {missing_edges[np.argmin(prob_connection)]}\")\n",
    "    "
   ]
  },
  {
   "cell_type": "markdown",
   "metadata": {},
   "source": [
    "# Plotting ROC Curves and AUC score"
   ]
  },
  {
   "cell_type": "code",
   "execution_count": 60,
   "metadata": {},
   "outputs": [],
   "source": [
    "import matplotlib.pyplot as plt\n",
    "from sklearn.metrics import roc_curve, auc\n",
    "\n",
    "def plot_roc(\n",
    "    fpr,\n",
    "    tpr,\n",
    "    auc_score=None,\n",
    "    color=\"darkorange\",\n",
    "    line_width = 2,):\n",
    "    \n",
    "    if auc_score is None:\n",
    "        auc_score = auc(fpr,tpr)\n",
    "        \n",
    "    plt.plot(\n",
    "    fpr,\n",
    "    tpr,\n",
    "    color=color,\n",
    "    lw=line_width,\n",
    "    label=\"ROC curve (area = %0.2f)\" % auc_score,\n",
    "    )\n",
    "    \n",
    "    plt.plot([0, 1], [0, 1], color=\"navy\", lw=line_width, linestyle=\"--\")\n",
    "    plt.xlim([0.0, 1.0])\n",
    "    plt.ylim([0.0, 1.05])\n",
    "    plt.xlabel(\"False Positive Rate\")\n",
    "    plt.ylabel(\"True Positive Rate\")\n",
    "    plt.title(\"Receiver operating characteristic\")\n",
    "    plt.legend(loc=\"lower right\")\n",
    "    plt.show()"
   ]
  },
  {
   "cell_type": "markdown",
   "metadata": {},
   "source": [
    "# Figure A"
   ]
  },
  {
   "cell_type": "code",
   "execution_count": 57,
   "metadata": {},
   "outputs": [
    {
     "data": {
      "image/png": "[encoded data removed]",
      "text/plain": [
       "<Figure size 432x288 with 1 Axes>"
      ]
     },
     "metadata": {
      "needs_background": "light"
     },
     "output_type": "display_data"
    }
   ],
   "source": [
    "\"\"\"\n",
    "Generate the labels for figure A\n",
    "\"\"\"\n",
    "fig_a_labels = np.zeros(len(missing_edges))\n",
    "fig_a_true_edges = np.array([[0,4]])\n",
    "\n",
    "for tr_edge in fig_a_true_edges:\n",
    "    fig_a_labels[nu.matching_rows_old(missing_edges,tr_edge)[0]] = 1\n",
    "    \n",
    "fpr,tpr, _ = roc_curve(fig_a_labels,prob_connection)\n",
    "plot_roc(fpr,tpr)"
   ]
  },
  {
   "cell_type": "markdown",
   "metadata": {},
   "source": [
    "# Figure B"
   ]
  },
  {
   "cell_type": "code",
   "execution_count": 58,
   "metadata": {},
   "outputs": [
    {
     "data": {
      "image/png": "[encoded data removed]",
      "text/plain": [
       "<Figure size 432x288 with 1 Axes>"
      ]
     },
     "metadata": {
      "needs_background": "light"
     },
     "output_type": "display_data"
    }
   ],
   "source": [
    "\"\"\"\n",
    "Generate the labels for figure B\n",
    "\"\"\"\n",
    "fig_b_labels = np.zeros(len(missing_edges))\n",
    "fig_b_true_edges = np.array([[0,4],[4,8]])\n",
    "\n",
    "for tr_edge in fig_b_true_edges:\n",
    "    fig_b_labels[nu.matching_rows_old(missing_edges,tr_edge)[0]] = 1\n",
    "    \n",
    "fpr,tpr, _ = roc_curve(fig_b_labels,prob_connection)\n",
    "plot_roc(fpr,tpr)"
   ]
  }
 ],
 "metadata": {
  "kernelspec": {
   "display_name": "Python 3",
   "language": "python",
   "name": "python3"
  },
  "language_info": {
   "codemirror_mode": {
    "name": "ipython",
    "version": 3
   },
   "file_extension": ".py",
   "mimetype": "text/x-python",
   "name": "python",
   "nbconvert_exporter": "python",
   "pygments_lexer": "ipython3",
   "version": "3.6.9"
  }
 },
 "nbformat": 4,
 "nbformat_minor": 4
}
