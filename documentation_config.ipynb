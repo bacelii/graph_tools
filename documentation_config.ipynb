{
 "cells": [
  {
   "cell_type": "code",
   "execution_count": 2,
   "metadata": {},
   "outputs": [],
   "source": [
    "%load_ext autoreload\n",
    "%autoreload 2"
   ]
  },
  {
   "cell_type": "code",
   "execution_count": 3,
   "metadata": {},
   "outputs": [
    {
     "data": {
      "text/plain": [
       "'\\nPurpose: To apply the documentation pipeline to package that will\\n\\n1) Clean module files (fix docstring, relative paths, ect)\\n2) Create the requirements file\\n3) Create the setup.py file\\n4) Verify pip install works\\n5) setup the sphinx documentation folders and push to github pages of repo\\n\\n\\n'"
      ]
     },
     "execution_count": 3,
     "metadata": {},
     "output_type": "execute_result"
    }
   ],
   "source": [
    "\"\"\"\n",
    "Purpose: To apply the documentation pipeline to package that will\n",
    "\n",
    "1) Clean module files (fix docstring, relative paths, ect)\n",
    "2) Create the requirements file\n",
    "3) Create the setup.py file\n",
    "4) Verify pip install works\n",
    "5) setup the sphinx documentation folders and push to github pages of repo\n",
    "\n",
    "\n",
    "\"\"\""
   ]
  },
  {
   "cell_type": "code",
   "execution_count": 4,
   "metadata": {},
   "outputs": [],
   "source": [
    "import python_tools"
   ]
  },
  {
   "cell_type": "code",
   "execution_count": 7,
   "metadata": {},
   "outputs": [],
   "source": [
    "directory = \"graph_tools\""
   ]
  },
  {
   "cell_type": "markdown",
   "metadata": {},
   "source": [
    "# Cleaning the modules"
   ]
  },
  {
   "cell_type": "code",
   "execution_count": null,
   "metadata": {},
   "outputs": [],
   "source": [
    "from python_tools import package_utils as pku\n",
    "\n",
    "pku.clean_package_syntax(\n",
    "    directory = [\n",
    "        f\"./{directory/\",\n",
    "    ],\n",
    "    create_init_if_not_exist = True,\n",
    "    overwrite = True,\n",
    ")\n",
    "\n",
    "\n"
   ]
  },
  {
   "cell_type": "markdown",
   "metadata": {},
   "source": [
    "# Requirmenets"
   ]
  },
  {
   "cell_type": "code",
   "execution_count": 5,
   "metadata": {},
   "outputs": [
    {
     "data": {
      "text/plain": [
       "['ipython', 'ipython_genutils']"
      ]
     },
     "execution_count": 5,
     "metadata": {},
     "output_type": "execute_result"
    }
   ],
   "source": [
    "from python_tools import requirement_utils as requ"
   ]
  },
  {
   "cell_type": "code",
   "execution_count": 6,
   "metadata": {},
   "outputs": [
    {
     "name": "stderr",
     "output_type": "stream",
     "text": [
      "  0%|          | 0/1 [00:00<?, ?it/s]"
     ]
    },
    {
     "name": "stdout",
     "output_type": "stream",
     "text": [
      "command = pipreqs --encoding=utf8 --force graph_tools --ignore=graph_tools/.ipynb_checkpoints,graph_tools/old_modules,graph_tools/__pycache__ --mode gt --savepath /graph_tools/requirements.txt\n"
     ]
    },
    {
     "name": "stderr",
     "output_type": "stream",
     "text": [
      "100%|██████████| 1/1 [00:01<00:00,  1.12s/it]"
     ]
    },
    {
     "name": "stdout",
     "output_type": "stream",
     "text": [
      "Package Diff: ['collections' 'itertools' 'random' 'time']\n"
     ]
    },
    {
     "name": "stderr",
     "output_type": "stream",
     "text": [
      "\n"
     ]
    },
    {
     "data": {
      "text/plain": [
       "{'graph_tools': {'matplotlib': '3.3.4',\n",
       "  'ndlib': '5.1.1',\n",
       "  'netsci': '0.0.3',\n",
       "  'networkx': '2.5',\n",
       "  'numpy': '1.19.5',\n",
       "  'pandas': '1.1.5',\n",
       "  'powerlaw': '1.5',\n",
       "  'python_tools': '0.0.1',\n",
       "  'scipy': '1.5.4',\n",
       "  'seaborn': '0.11.2',\n",
       "  'tqdm': '4.62.2',\n",
       "  'ipython': None,\n",
       "  'ipython_genutils': None}}"
      ]
     },
     "execution_count": 6,
     "metadata": {},
     "output_type": "execute_result"
    }
   ],
   "source": [
    "# Generate the requirements package\n",
    "from python_tools import requirement_utils as requ\n",
    "\n",
    "directory = \"graph_tools\"\n",
    "\n",
    "req_dict = requ.requirements_dict_from_directories(\n",
    "    directories=(directory,),\n",
    "    verbose = True,\n",
    ")\n",
    "req_dict"
   ]
  },
  {
   "cell_type": "markdown",
   "metadata": {},
   "source": [
    "# Do the setup.py"
   ]
  },
  {
   "cell_type": "code",
   "execution_count": 8,
   "metadata": {},
   "outputs": [
    {
     "data": {
      "text/plain": [
       "'def get_install_requires(filepath=None):\\n    if filepath is None:\\n        filepath = \"./\"\\n    \"\"\"Returns requirements.txt parsed to a list\"\"\"\\n    fname = Path(filepath).parent / \\'requirements.txt\\'\\n    targets = []\\n    if fname.exists():\\n        with open(fname, \\'r\\') as f:\\n            targets = f.read().splitlines()\\n    return targets\\n\\ndef get_links():\\n    return [\\n        \"git+https://github.com/bacelii/machine_learning_tools.git\"\\n    ]\\n\\n\\nfrom setuptools import setup, find_packages\\nfrom pathlib import Path\\n\\nsetup(\\n    name=\\'graph_tools\\', # the name of the package, which can be different than the folder when using pip instal\\n    version=\\'1.0.0\\',\\n    description=\\'\\',\\n    author=\\'Brendan Celii\\',\\n    author_email=\\'brendanacelii\\',\\n    packages=find_packages(),  #teslls what packages to be included for the install\\n    install_requires=get_install_requires(), #external packages as dependencies\\n    dependency_links = get_links(),\\n    # if wanted to install with the extra requirements use pip install -e \".[interactive]\"\\n    extras_require={\\n        #\\'interactive\\': [\\'matplotlib>=2.2.0\\', \\'jupyter\\'],\\n    },\\n    \\n    # if have a python script that wants to be run from the command line\\n    entry_points={\\n        #\\'console_scripts\\': [\\'pipeline_download=Applications.Eleox_Data_Fetch.Eleox_Data_Fetcher_vp1:main\\']\\n    },\\n    scripts=[], \\n    \\n)\\n\\n'"
      ]
     },
     "execution_count": 8,
     "metadata": {},
     "output_type": "execute_result"
    }
   ],
   "source": [
    "from python_tools import setup_py_utils as setu\n",
    "setu.setup_py_str_generator(\n",
    "    directory,\n",
    "    output_path=\"./setup.py\"\n",
    ")"
   ]
  },
  {
   "cell_type": "code",
   "execution_count": null,
   "metadata": {},
   "outputs": [],
   "source": []
  }
 ],
 "metadata": {
  "kernelspec": {
   "display_name": "Python 3",
   "language": "python",
   "name": "python3"
  },
  "language_info": {
   "codemirror_mode": {
    "name": "ipython",
    "version": 3
   },
   "file_extension": ".py",
   "mimetype": "text/x-python",
   "name": "python",
   "nbconvert_exporter": "python",
   "pygments_lexer": "ipython3",
   "version": "3.6.9"
  }
 },
 "nbformat": 4,
 "nbformat_minor": 4
}
