{
 "cells": [
  {
   "cell_type": "code",
   "execution_count": 1,
   "metadata": {},
   "outputs": [],
   "source": [
    "%load_ext autoreload\n",
    "%autoreload 2"
   ]
  },
  {
   "cell_type": "markdown",
   "metadata": {},
   "source": [
    "# Importing libraries and modules"
   ]
  },
  {
   "cell_type": "code",
   "execution_count": 4,
   "metadata": {},
   "outputs": [],
   "source": [
    "from os import sys\n",
    "sys.path.append(\"/python_tools/python_tools/\")\n",
    "sys.path.append(\"../../../graph_tools/\")"
   ]
  },
  {
   "cell_type": "code",
   "execution_count": 85,
   "metadata": {},
   "outputs": [],
   "source": [
    "import matplotlib.pyplot as plt\n",
    "import networkx as nx\n",
    "import numpy as np\n",
    "\n",
    "# from python_tools\n",
    "import networkx_utils as xu\n",
    "\n",
    "# from the graph_tools\n",
    "import graph_visualizations as gviz\n",
    "import graph_statistics as gs"
   ]
  },
  {
   "cell_type": "markdown",
   "metadata": {},
   "source": [
    "# Problem 1.1: Basic Graph Theory"
   ]
  },
  {
   "cell_type": "markdown",
   "metadata": {},
   "source": [
    "### 1.1.1 Triangles and algebraic Representation"
   ]
  },
  {
   "cell_type": "code",
   "execution_count": 6,
   "metadata": {},
   "outputs": [
    {
     "data": {
      "image/png": "[encoded data removed]",
      "text/plain": [
       "<Figure size 432x288 with 1 Axes>"
      ]
     },
     "metadata": {},
     "output_type": "display_data"
    }
   ],
   "source": [
    "nodes = ['a','b','c','d','e','f','g']\n",
    "edgelist = [\n",
    "    ['a','b'],\n",
    "    ['b','c'],\n",
    "    ['b','d'],\n",
    "    ['c','d'],\n",
    "    ['d','e'],\n",
    "    ['e','f'],\n",
    "    ['e','g'],\n",
    "    ['f','g'],\n",
    "]\n",
    "\n",
    "G = nx.from_edgelist(edgelist)\n",
    "nx.draw(G,with_labels = True)"
   ]
  },
  {
   "cell_type": "markdown",
   "metadata": {},
   "source": [
    "#### -- a) Find two adjacency matricies"
   ]
  },
  {
   "cell_type": "code",
   "execution_count": 28,
   "metadata": {},
   "outputs": [],
   "source": [
    "# -- the mapping functions l: V --> N\n",
    "node_to_idx_1 = {k:i%len(nodes) + 1 for i,k in enumerate(nodes)}\n",
    "node_to_idx_2 = {k:(i+1)%len(nodes) + 1 for i,k in enumerate(nodes)}"
   ]
  },
  {
   "cell_type": "code",
   "execution_count": 30,
   "metadata": {},
   "outputs": [
    {
     "name": "stdout",
     "output_type": "stream",
     "text": [
      "Adjacency Matrix 1:\n",
      "node_to_idx_1 = {'a': 1, 'b': 2, 'c': 3, 'd': 4, 'e': 5, 'f': 6, 'g': 7}\n",
      "\n",
      "array([[0, 1, 0, 0, 0, 0, 0],\n",
      "       [1, 0, 1, 1, 0, 0, 0],\n",
      "       [0, 1, 0, 1, 0, 0, 0],\n",
      "       [0, 1, 1, 0, 1, 0, 0],\n",
      "       [0, 0, 0, 1, 0, 1, 1],\n",
      "       [0, 0, 0, 0, 1, 0, 1],\n",
      "       [0, 0, 0, 0, 1, 1, 0]])\n",
      "Adjacency Matrix 2:\n",
      "node_to_idx_2 = {'a': 2, 'b': 3, 'c': 4, 'd': 5, 'e': 6, 'f': 7, 'g': 1}\n",
      "\n",
      "array([[0, 0, 0, 0, 0, 1, 1],\n",
      "       [0, 0, 1, 0, 0, 0, 0],\n",
      "       [0, 1, 0, 1, 1, 0, 0],\n",
      "       [0, 0, 1, 0, 1, 0, 0],\n",
      "       [0, 0, 1, 1, 0, 1, 0],\n",
      "       [1, 0, 0, 0, 1, 0, 1],\n",
      "       [1, 0, 0, 0, 0, 1, 0]])\n"
     ]
    }
   ],
   "source": [
    "def node_order_from_mapping(node_map):\n",
    "    idx = np.sort(list(node_map.values())).astype('int')\n",
    "    reverse_map = {v:k for k,v in node_map.items()}\n",
    "    return [reverse_map[k] for k in idx]\n",
    "\n",
    "adj_1 = nx.adjacency_matrix(\n",
    "    G,nodelist = node_order_from_mapping(node_to_idx_1)\n",
    ")\n",
    "\n",
    "print(f\"Adjacency Matrix 1:\")\n",
    "print(f\"node_to_idx_1 = {node_to_idx_1}\")\n",
    "print(f\"\\n{repr(adj_1.toarray())}\")\n",
    "\n",
    "adj_2 = nx.adjacency_matrix(\n",
    "    G,nodelist = node_order_from_mapping(node_to_idx_2)\n",
    ")\n",
    "\n",
    "print(f\"Adjacency Matrix 2:\")\n",
    "print(f\"node_to_idx_2 = {node_to_idx_2}\")\n",
    "print(f\"\\n{repr(adj_2.toarray())}\")"
   ]
  },
  {
   "cell_type": "code",
   "execution_count": 35,
   "metadata": {},
   "outputs": [
    {
     "name": "stdout",
     "output_type": "stream",
     "text": [
      "P (Permutation matrix):\n",
      "array([[0., 0., 0., 0., 0., 0., 1.],\n",
      "       [1., 0., 0., 0., 0., 0., 0.],\n",
      "       [0., 1., 0., 0., 0., 0., 0.],\n",
      "       [0., 0., 1., 0., 0., 0., 0.],\n",
      "       [0., 0., 0., 1., 0., 0., 0.],\n",
      "       [0., 0., 0., 0., 1., 0., 0.],\n",
      "       [0., 0., 0., 0., 0., 1., 0.]])\n"
     ]
    }
   ],
   "source": [
    "P = np.roll(np.eye(*adj_1.shape),-1,axis = 1)\n",
    "print(f\"P (Permutation matrix):\\n{repr(P)}\")"
   ]
  },
  {
   "cell_type": "code",
   "execution_count": 36,
   "metadata": {},
   "outputs": [
    {
     "data": {
      "text/plain": [
       "array([[0., 0., 0., 0., 0., 1., 1.],\n",
       "       [0., 0., 1., 0., 0., 0., 0.],\n",
       "       [0., 1., 0., 1., 1., 0., 0.],\n",
       "       [0., 0., 1., 0., 1., 0., 0.],\n",
       "       [0., 0., 1., 1., 0., 1., 0.],\n",
       "       [1., 0., 0., 0., 1., 0., 1.],\n",
       "       [1., 0., 0., 0., 0., 1., 0.]])"
      ]
     },
     "execution_count": 36,
     "metadata": {},
     "output_type": "execute_result"
    }
   ],
   "source": [
    "# verifying that adj_2 is the same as perumuting adj_1\n",
    "A = adj_1\n",
    "A_prime = P@A@(P.T)\n",
    "A_prime"
   ]
  },
  {
   "cell_type": "code",
   "execution_count": 44,
   "metadata": {},
   "outputs": [
    {
     "name": "stdout",
     "output_type": "stream",
     "text": [
      "# of triangles in adj_1 = 2\n",
      "# of triangles in adj_2 = 2\n"
     ]
    }
   ],
   "source": [
    "def n_triangles(M):\n",
    "    return (np.trace(M@M@M)/6).astype('int')\n",
    "\n",
    "print(f\"# of triangles in adj_1 = {n_triangles(adj_1.toarray())}\")\n",
    "print(f\"# of triangles in adj_2 = {n_triangles(adj_2.toarray())}\")"
   ]
  },
  {
   "cell_type": "markdown",
   "metadata": {},
   "source": [
    "### 1.1.2 Vectors and Matrices"
   ]
  },
  {
   "cell_type": "code",
   "execution_count": 55,
   "metadata": {},
   "outputs": [
    {
     "data": {
      "text/plain": [
       "['a', 'b', 'c', 'd', 'e', 'f', 'g']"
      ]
     },
     "execution_count": 55,
     "metadata": {},
     "output_type": "execute_result"
    }
   ],
   "source": [
    "node_order_from_mapping(node_to_idx_1)"
   ]
  },
  {
   "cell_type": "code",
   "execution_count": 68,
   "metadata": {},
   "outputs": [
    {
     "data": {
      "text/plain": [
       "array([[0, 1, 0, 0, 0, 0, 0],\n",
       "       [0, 0, 1, 1, 0, 0, 0],\n",
       "       [0, 1, 0, 1, 0, 0, 0],\n",
       "       [0, 0, 0, 0, 1, 0, 0],\n",
       "       [0, 0, 0, 0, 0, 1, 1],\n",
       "       [0, 0, 0, 0, 0, 0, 1],\n",
       "       [0, 0, 0, 0, 0, 0, 1]])"
      ]
     },
     "execution_count": 68,
     "metadata": {},
     "output_type": "execute_result"
    },
    {
     "data": {
      "image/png": "[encoded data removed]",
      "text/plain": [
       "<Figure size 432x288 with 1 Axes>"
      ]
     },
     "metadata": {},
     "output_type": "display_data"
    }
   ],
   "source": [
    "G_dir = nx.DiGraph()\n",
    "G_dir.add_edges_from(edgelist + [['g','g'],['c','b']])\n",
    "A = nx.adjacency_matrix(G_dir,nodelist = node_order_from_mapping(node_to_idx_1)).toarray()\n",
    "nx.draw(G_dir,with_labels = True)\n",
    "A"
   ]
  },
  {
   "cell_type": "code",
   "execution_count": 66,
   "metadata": {},
   "outputs": [
    {
     "name": "stdout",
     "output_type": "stream",
     "text": [
      "din = [[0. 1. 1. 2. 1. 1. 3.]]\n",
      "dout = [[1. 2. 1. 1. 2. 1. 1.]]\n"
     ]
    }
   ],
   "source": [
    "din = A.T@np.ones((len(A),1))\n",
    "dout = A@np.ones((len(A),1))\n",
    "print(f\"din = {din.T}\")\n",
    "print(f\"dout = {dout.T}\")\n"
   ]
  },
  {
   "cell_type": "markdown",
   "metadata": {},
   "source": [
    "#### b) Number of self loops"
   ]
  },
  {
   "cell_type": "code",
   "execution_count": 70,
   "metadata": {},
   "outputs": [
    {
     "data": {
      "text/plain": [
       "1"
      ]
     },
     "execution_count": 70,
     "metadata": {},
     "output_type": "execute_result"
    }
   ],
   "source": [
    "np.trace(A)"
   ]
  },
  {
   "cell_type": "markdown",
   "metadata": {},
   "source": [
    "#### c) Number of mutual edges"
   ]
  },
  {
   "cell_type": "code",
   "execution_count": 69,
   "metadata": {},
   "outputs": [
    {
     "data": {
      "text/plain": [
       "1.5"
      ]
     },
     "execution_count": 69,
     "metadata": {},
     "output_type": "execute_result"
    }
   ],
   "source": [
    "np.trace(A@A)/2"
   ]
  },
  {
   "cell_type": "markdown",
   "metadata": {},
   "source": [
    "# d) Local Clustering Coefficient"
   ]
  },
  {
   "cell_type": "code",
   "execution_count": 79,
   "metadata": {},
   "outputs": [
    {
     "data": {
      "image/png": "[encoded data removed]",
      "text/plain": [
       "<Figure size 432x288 with 1 Axes>"
      ]
     },
     "metadata": {},
     "output_type": "display_data"
    }
   ],
   "source": [
    "nx.draw(G,with_labels = True)"
   ]
  },
  {
   "cell_type": "code",
   "execution_count": 77,
   "metadata": {},
   "outputs": [
    {
     "name": "stderr",
     "output_type": "stream",
     "text": [
      "/usr/local/lib/python3.6/dist-packages/ipykernel_launcher.py:5: RuntimeWarning: divide by zero encountered in true_divide\n",
      "  \"\"\"\n"
     ]
    },
    {
     "data": {
      "text/plain": [
       "array([[       inf],\n",
       "       [0.33333333],\n",
       "       [1.        ],\n",
       "       [0.33333333],\n",
       "       [0.33333333],\n",
       "       [1.        ],\n",
       "       [1.        ]])"
      ]
     },
     "execution_count": 77,
     "metadata": {},
     "output_type": "execute_result"
    }
   ],
   "source": [
    "A = adj_1.toarray()\n",
    "\n",
    "def local_clustering_coeff_vector(M):\n",
    "    ones_vec = np.ones((len(M),1))\n",
    "    return ((1/6)*np.trace(M@M@M))/((M@ones_vec)*((M@ones_vec) - 1))\n",
    "\n",
    "local_clustering_coeff_vector(A)"
   ]
  },
  {
   "cell_type": "markdown",
   "metadata": {},
   "source": [
    "### 1.1.3 Star Network"
   ]
  },
  {
   "cell_type": "code",
   "execution_count": 90,
   "metadata": {},
   "outputs": [
    {
     "data": {
      "image/png": "[encoded data removed]",
      "text/plain": [
       "<Figure size 432x288 with 1 Axes>"
      ]
     },
     "metadata": {},
     "output_type": "display_data"
    }
   ],
   "source": [
    "N = 9\n",
    "S = nx.star_graph(N)\n",
    "nx.draw(S,with_labels = True)"
   ]
  },
  {
   "cell_type": "markdown",
   "metadata": {},
   "source": [
    "#### a) degree distribution as pmf"
   ]
  },
  {
   "cell_type": "code",
   "execution_count": 92,
   "metadata": {},
   "outputs": [
    {
     "data": {
      "image/png": "[encoded data removed]",
      "text/plain": [
       "<Figure size 432x288 with 1 Axes>"
      ]
     },
     "metadata": {
      "needs_background": "light"
     },
     "output_type": "display_data"
    }
   ],
   "source": [
    "gviz.plot_degree_distribution_simple(S)"
   ]
  },
  {
   "cell_type": "markdown",
   "metadata": {},
   "source": [
    "#### b) Expected value of degree distribution"
   ]
  },
  {
   "cell_type": "code",
   "execution_count": 91,
   "metadata": {},
   "outputs": [
    {
     "data": {
      "text/plain": [
       "1.8"
      ]
     },
     "execution_count": 91,
     "metadata": {},
     "output_type": "execute_result"
    }
   ],
   "source": [
    "np.mean(gs.degree_distribution(S))"
   ]
  },
  {
   "cell_type": "markdown",
   "metadata": {},
   "source": [
    "#### c) Global Clustering coefficient"
   ]
  },
  {
   "cell_type": "code",
   "execution_count": 93,
   "metadata": {},
   "outputs": [
    {
     "data": {
      "text/plain": [
       "0"
      ]
     },
     "execution_count": 93,
     "metadata": {},
     "output_type": "execute_result"
    }
   ],
   "source": [
    "gs.transitivity(S)"
   ]
  },
  {
   "cell_type": "markdown",
   "metadata": {},
   "source": [
    "# Problem 2: Centrality"
   ]
  },
  {
   "cell_type": "markdown",
   "metadata": {},
   "source": [
    "## 1.2.2 Path betweeness"
   ]
  },
  {
   "cell_type": "code",
   "execution_count": 100,
   "metadata": {},
   "outputs": [
    {
     "data": {
      "image/png": "[encoded data removed]",
      "text/plain": [
       "<Figure size 432x288 with 1 Axes>"
      ]
     },
     "metadata": {},
     "output_type": "display_data"
    }
   ],
   "source": [
    "N = 10\n",
    "G = nx.path_graph(N)\n",
    "nx.draw(G,with_labels = True)"
   ]
  },
  {
   "cell_type": "code",
   "execution_count": 103,
   "metadata": {},
   "outputs": [
    {
     "data": {
      "text/plain": [
       "{0: 0.0,\n",
       " 1: 8.0,\n",
       " 2: 14.0,\n",
       " 3: 18.0,\n",
       " 4: 20.0,\n",
       " 5: 20.0,\n",
       " 6: 18.0,\n",
       " 7: 14.0,\n",
       " 8: 8.0,\n",
       " 9: 0.0}"
      ]
     },
     "execution_count": 103,
     "metadata": {},
     "output_type": "execute_result"
    }
   ],
   "source": [
    "gs.betweenness_centrality(\n",
    "    G,\n",
    "    normalized=False,\n",
    "    endpoints = False\n",
    ")"
   ]
  },
  {
   "cell_type": "code",
   "execution_count": 111,
   "metadata": {},
   "outputs": [
    {
     "data": {
      "text/plain": [
       "18"
      ]
     },
     "execution_count": 111,
     "metadata": {},
     "output_type": "execute_result"
    }
   ],
   "source": [
    "def betweeness_centrality_manual(i):\n",
    "    return (i-1)*(N-i)\n",
    "\n",
    "betweeness_centrality_manual(4)"
   ]
  },
  {
   "cell_type": "markdown",
   "metadata": {},
   "source": [
    "## 1.2.3: Regular Centralities"
   ]
  },
  {
   "cell_type": "code",
   "execution_count": 117,
   "metadata": {},
   "outputs": [
    {
     "data": {
      "image/png": "[encoded data removed]",
      "text/plain": [
       "<Figure size 432x288 with 1 Axes>"
      ]
     },
     "metadata": {},
     "output_type": "display_data"
    }
   ],
   "source": [
    "N = 5\n",
    "k = 2\n",
    "\n",
    "G = nx.random_regular_graph(k,N)\n",
    "nx.draw(G,with_labels = True)"
   ]
  },
  {
   "cell_type": "code",
   "execution_count": 118,
   "metadata": {},
   "outputs": [
    {
     "data": {
      "text/plain": [
       "{0: 0.4472135954999579,\n",
       " 1: 0.4472135954999579,\n",
       " 4: 0.4472135954999579,\n",
       " 2: 0.4472135954999579,\n",
       " 3: 0.4472135954999579}"
      ]
     },
     "execution_count": 118,
     "metadata": {},
     "output_type": "execute_result"
    }
   ],
   "source": [
    "gs.eigenvector_centrality(G)"
   ]
  },
  {
   "cell_type": "code",
   "execution_count": null,
   "metadata": {},
   "outputs": [],
   "source": []
  }
 ],
 "metadata": {
  "kernelspec": {
   "display_name": "Python 3",
   "language": "python",
   "name": "python3"
  },
  "language_info": {
   "codemirror_mode": {
    "name": "ipython",
    "version": 3
   },
   "file_extension": ".py",
   "mimetype": "text/x-python",
   "name": "python",
   "nbconvert_exporter": "python",
   "pygments_lexer": "ipython3",
   "version": "3.6.9"
  }
 },
 "nbformat": 4,
 "nbformat_minor": 4
}
