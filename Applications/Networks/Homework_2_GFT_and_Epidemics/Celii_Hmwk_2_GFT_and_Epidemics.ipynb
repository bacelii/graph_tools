{
 "cells": [
  {
   "cell_type": "code",
   "execution_count": null,
   "metadata": {},
   "outputs": [],
   "source": [
    "\"\"\"\n",
    "Purpose: Networks Homework 2\n",
    "\n",
    "\"\"\""
   ]
  },
  {
   "cell_type": "code",
   "execution_count": 1,
   "metadata": {},
   "outputs": [],
   "source": [
    "%load_ext autoreload\n",
    "%autoreload 2"
   ]
  },
  {
   "cell_type": "code",
   "execution_count": 2,
   "metadata": {},
   "outputs": [],
   "source": [
    "from os import sys\n",
    "sys.path.append(\"/python_tools/python_tools/\")\n",
    "sys.path.append(\"/graph_tools/graph_tools/\")"
   ]
  },
  {
   "cell_type": "code",
   "execution_count": 3,
   "metadata": {},
   "outputs": [],
   "source": [
    "#generic python modules\n",
    "import numpy as np\n",
    "import matplotlib.pyplot as plt"
   ]
  },
  {
   "cell_type": "code",
   "execution_count": 4,
   "metadata": {},
   "outputs": [],
   "source": [
    "# modules from python tools\n",
    "import matlab_utils as matu\n",
    "import numpy_utils as nu\n",
    "import networkx_utils as xu"
   ]
  },
  {
   "cell_type": "code",
   "execution_count": 6,
   "metadata": {},
   "outputs": [],
   "source": [
    "# modules from graph_tools\n",
    "import graph_statistics as gs"
   ]
  },
  {
   "cell_type": "markdown",
   "metadata": {},
   "source": [
    "# Problem 2.1: Classification of Cancer Types"
   ]
  },
  {
   "cell_type": "code",
   "execution_count": 7,
   "metadata": {},
   "outputs": [
    {
     "data": {
      "text/plain": [
       "'\\nPurpose: To be able to distinguish patients with different\\novarian cancers (labels) using graph fourier analysis \\nand treating the genetic vectors of each patient as the graph\\nsignal over the graph of the genetic interaction network\\n'"
      ]
     },
     "execution_count": 7,
     "metadata": {},
     "output_type": "execute_result"
    }
   ],
   "source": [
    "\"\"\"\n",
    "Purpose: To be able to distinguish patients with different\n",
    "ovarian cancers (labels) using graph fourier analysis \n",
    "and treating the genetic vectors of each patient as the graph\n",
    "signal over the graph of the genetic interaction network\n",
    "\"\"\""
   ]
  },
  {
   "cell_type": "markdown",
   "metadata": {},
   "source": [
    "## Prep: Loading Data"
   ]
  },
  {
   "cell_type": "code",
   "execution_count": 8,
   "metadata": {},
   "outputs": [
    {
     "data": {
      "text/plain": [
       "'\\nData background: \\n\\n1) geneNetwork_rawPCNCI\\nAdjacency matrix of 2458 genes\\n-> edge exists if 2 genes encode protein that participate\\nin the same metabolic reaction\\n\\n2) signal_mutation\\nArray where each row notes if patient has a mutation in the \\ngene or not\\n- Key: 1 -> mutation, 0 -> no mutation\\n\\n3) histology_subtype:\\nColumn vector that gives the phenotype classification of each patient\\nkey: 1--> serous subtype ovarian cancer, 2--> endometroid subtype ovariance cancer\\n'"
      ]
     },
     "execution_count": 8,
     "metadata": {},
     "output_type": "execute_result"
    }
   ],
   "source": [
    "\"\"\"\n",
    "Data background: \n",
    "\n",
    "1) geneNetwork_rawPCNCI\n",
    "Adjacency matrix of 2458 genes\n",
    "-> edge exists if 2 genes encode protein that participate\n",
    "in the same metabolic reaction\n",
    "\n",
    "2) signal_mutation\n",
    "Array where each row notes if patient has a mutation in the \n",
    "gene or not\n",
    "- Key: 1 -> mutation, 0 -> no mutation\n",
    "\n",
    "3) histology_subtype:\n",
    "Column vector that gives the phenotype classification of each patient\n",
    "key: 1--> serous subtype ovarian cancer, 2--> endometroid subtype ovariance cancer\n",
    "\"\"\""
   ]
  },
  {
   "cell_type": "markdown",
   "metadata": {},
   "source": [
    "# ! Note: The adjacency matrix had self loops so those were removed !"
   ]
  },
  {
   "cell_type": "code",
   "execution_count": 9,
   "metadata": {},
   "outputs": [
    {
     "data": {
      "text/plain": [
       "array([[0., 0., 0., ..., 0., 0., 0.],\n",
       "       [0., 0., 0., ..., 0., 0., 0.],\n",
       "       [0., 0., 0., ..., 0., 0., 0.],\n",
       "       ...,\n",
       "       [0., 0., 0., ..., 0., 0., 0.],\n",
       "       [0., 0., 0., ..., 0., 0., 0.],\n",
       "       [0., 0., 0., ..., 0., 0., 0.]])"
      ]
     },
     "execution_count": 9,
     "metadata": {},
     "output_type": "execute_result"
    }
   ],
   "source": [
    "filepath_adj = \"./Data/genetics/geneNetwork_rawPCNCI.mat\"\n",
    "gene_adj_pre = matu.loadmat(filepath_adj)[\"geneNetwork_rawPCNCI\"].astype('float')\n",
    "gene_adj = gene_adj_pre- nu.diagonal_matrix_from_array(gene_adj_pre)\n",
    "gene_adj"
   ]
  },
  {
   "cell_type": "code",
   "execution_count": 10,
   "metadata": {},
   "outputs": [
    {
     "data": {
      "text/plain": [
       "array([[0, 0, 0, ..., 0, 0, 0],\n",
       "       [0, 0, 0, ..., 0, 0, 0],\n",
       "       [0, 0, 0, ..., 0, 0, 0],\n",
       "       ...,\n",
       "       [0, 0, 0, ..., 0, 0, 0],\n",
       "       [0, 0, 0, ..., 0, 0, 0],\n",
       "       [0, 0, 0, ..., 0, 0, 0]])"
      ]
     },
     "execution_count": 10,
     "metadata": {},
     "output_type": "execute_result"
    }
   ],
   "source": [
    "genetic_prof_filepath = \"./Data/genetics/signal_mutation.mat\"\n",
    "genetic_prof = matu.loadmat(genetic_prof_filepath)[\"signal_mutation\"].astype('int')\n",
    "genetic_prof"
   ]
  },
  {
   "cell_type": "code",
   "execution_count": 11,
   "metadata": {},
   "outputs": [
    {
     "data": {
      "text/plain": [
       "((240, 2458), 1, 0)"
      ]
     },
     "execution_count": 11,
     "metadata": {},
     "output_type": "execute_result"
    }
   ],
   "source": [
    "genetic_prof.shape,np.max(genetic_prof),np.min(genetic_prof)"
   ]
  },
  {
   "cell_type": "code",
   "execution_count": 12,
   "metadata": {},
   "outputs": [
    {
     "data": {
      "text/plain": [
       "array([1, 2, 2, 2, 2, 2, 2, 2, 2, 2, 2, 2, 2, 2, 2, 2, 2, 1, 2, 2, 2, 2,\n",
       "       2, 2, 2, 1, 2, 1, 2, 2, 2, 2, 1, 1, 1, 1, 2, 2, 1, 1, 2, 2, 2, 2,\n",
       "       1, 1, 2, 2, 2, 2, 2, 2, 2, 2, 2, 2, 2, 2, 2, 2, 2, 2, 2, 2, 2, 2,\n",
       "       2, 2, 2, 2, 1, 1, 2, 2, 1, 1, 1, 1, 1, 1, 2, 2, 2, 2, 2, 2, 2, 2,\n",
       "       2, 2, 2, 2, 1, 2, 2, 2, 2, 2, 2, 2, 2, 2, 2, 2, 2, 2, 2, 2, 2, 2,\n",
       "       1, 1, 2, 2, 2, 2, 2, 2, 1, 2, 2, 2, 2, 2, 2, 2, 2, 2, 2, 2, 2, 2,\n",
       "       2, 2, 2, 2, 2, 2, 2, 1, 2, 2, 2, 2, 2, 1, 2, 1, 2, 2, 2, 2, 2, 2,\n",
       "       2, 2, 2, 2, 2, 2, 2, 2, 2, 2, 2, 2, 2, 2, 2, 2, 2, 2, 2, 2, 2, 2,\n",
       "       1, 2, 2, 2, 2, 2, 2, 2, 2, 1, 2, 1, 2, 2, 2, 2, 2, 2, 2, 2, 2, 2,\n",
       "       2, 2, 1, 1, 2, 2, 2, 2, 2, 1, 2, 2, 2, 2, 2, 2, 2, 2, 2, 2, 2, 2,\n",
       "       2, 2, 2, 2, 2, 2, 2, 2, 1, 1, 2, 1, 1, 1, 1, 1, 1, 1, 1, 1])"
      ]
     },
     "execution_count": 12,
     "metadata": {},
     "output_type": "execute_result"
    }
   ],
   "source": [
    "phenotype_filepath = \"./Data/genetics/histology_subtype.mat\"\n",
    "classes = matu.loadmat(phenotype_filepath)[\"histology_subtype\"].astype('int').ravel()\n",
    "classes"
   ]
  },
  {
   "cell_type": "code",
   "execution_count": 13,
   "metadata": {},
   "outputs": [
    {
     "data": {
      "text/plain": [
       "(array([ 44.,   0.,   0.,   0.,   0.,   0.,   0.,   0.,   0., 196.]),\n",
       " array([1. , 1.1, 1.2, 1.3, 1.4, 1.5, 1.6, 1.7, 1.8, 1.9, 2. ]),\n",
       " <BarContainer object of 10 artists>)"
      ]
     },
     "execution_count": 13,
     "metadata": {},
     "output_type": "execute_result"
    },
    {
     "data": {
      "image/png": "[encoded data removed]",
      "text/plain": [
       "<Figure size 432x288 with 1 Axes>"
      ]
     },
     "metadata": {
      "needs_background": "light"
     },
     "output_type": "display_data"
    }
   ],
   "source": [
    "plt.hist(classes)"
   ]
  },
  {
   "cell_type": "code",
   "execution_count": 14,
   "metadata": {},
   "outputs": [],
   "source": [
    "class_1_mask = classes == 1\n",
    "class_2_mask = classes == 2"
   ]
  },
  {
   "cell_type": "markdown",
   "metadata": {},
   "source": [
    "## a) Distinguishing Power"
   ]
  },
  {
   "cell_type": "code",
   "execution_count": 15,
   "metadata": {},
   "outputs": [
    {
     "data": {
      "text/plain": [
       "'\\nPurpose: Find which frequency of the genetics graph that \\nhas the greated distinguishing power for the genetic graph signals\\nof the patients of the 2 subclasses\\n\\nPseudocode: \\n0) Compute the Laplacian from the adjacency matrix\\n1) Compute the eigenvalues and eigenvectors of the genetics graph Laplacian\\n2) Compute the GFT of the observations using the eigenvectors\\n\\n3) For each eigenvector (or can do this with matrix operations): \\na) Compute the distinguishing power by\\n    i) mean GFT coefficient of class 1\\n    ii) mean GFT coefficient of class 2\\n    iii) Find the difference of mean GFT\\n    iv) Divide by the sum of all GFT coefficients\\n\\n4) Plot the DP vs eigenvector index\\n5) Plot a boxplot of all the DP\\n'"
      ]
     },
     "execution_count": 15,
     "metadata": {},
     "output_type": "execute_result"
    }
   ],
   "source": [
    "\"\"\"\n",
    "Purpose: Find which frequency of the genetics graph that \n",
    "has the greated distinguishing power for the genetic graph signals\n",
    "of the patients of the 2 subclasses\n",
    "\n",
    "Pseudocode: \n",
    "0) Compute the Laplacian from the adjacency matrix\n",
    "1) Compute the eigenvalues and eigenvectors of the genetics graph Laplacian\n",
    "2) Compute the GFT of the observations using the eigenvectors\n",
    "\n",
    "3) For each eigenvector (or can do this with matrix operations): \n",
    "a) Compute the distinguishing power by\n",
    "    i) mean GFT coefficient of class 1\n",
    "    ii) mean GFT coefficient of class 2\n",
    "    iii) Find the difference of mean GFT\n",
    "    iv) Divide by the sum of all GFT coefficients\n",
    "\n",
    "4) Plot the DP vs eigenvector index\n",
    "5) Plot a boxplot of all the DP\n",
    "\"\"\""
   ]
  },
  {
   "cell_type": "code",
   "execution_count": 16,
   "metadata": {},
   "outputs": [
    {
     "name": "stdout",
     "output_type": "stream",
     "text": [
      "Is the adjacency matrix symmetric? True\n"
     ]
    }
   ],
   "source": [
    "# testing if the graph adjacency matrix is symmetric\n",
    "print(f\"Is the adjacency matrix symmetric? {nu.check_symmetric(gene_adj)}\")"
   ]
  },
  {
   "cell_type": "code",
   "execution_count": 17,
   "metadata": {},
   "outputs": [
    {
     "data": {
      "text/plain": [
       "(2458, 2458)"
      ]
     },
     "execution_count": 17,
     "metadata": {},
     "output_type": "execute_result"
    }
   ],
   "source": [
    "#0) Compute the Laplacian from the adjacency matrix\n",
    "L = xu.laplacian_from_adj(gene_adj.astype('float'))\n",
    "L.shape"
   ]
  },
  {
   "cell_type": "code",
   "execution_count": 18,
   "metadata": {},
   "outputs": [],
   "source": [
    "#1) Compute the eigenvalues and eigenvectors of the genetics graph Laplacian\n",
    "eigvals, eigvecs = nu.eig_vals_vecs(L)"
   ]
  },
  {
   "cell_type": "code",
   "execution_count": 19,
   "metadata": {},
   "outputs": [
    {
     "data": {
      "text/plain": [
       "(2458, 240)"
      ]
     },
     "execution_count": 19,
     "metadata": {},
     "output_type": "execute_result"
    }
   ],
   "source": [
    "#2) Compute the GFT of the observations using the eigenvectors\n",
    "gft_coeff = ((eigvecs.T)@genetic_prof.T)\n",
    "gft_coeff.shape"
   ]
  },
  {
   "cell_type": "code",
   "execution_count": 20,
   "metadata": {},
   "outputs": [
    {
     "data": {
      "text/plain": [
       "(2458,)"
      ]
     },
     "execution_count": 20,
     "metadata": {},
     "output_type": "execute_result"
    }
   ],
   "source": [
    "# 3) Compute the distingushing power (dp)\n",
    "dp = np.abs(\n",
    "    gft_coeff[:,class_1_mask].mean(axis=1) \n",
    "    - gft_coeff[:,class_2_mask].mean(axis=1)\n",
    ")/np.sum(np.abs(gft_coeff),axis=1)\n",
    "\n",
    "dp.shape"
   ]
  },
  {
   "cell_type": "code",
   "execution_count": 21,
   "metadata": {},
   "outputs": [
    {
     "name": "stdout",
     "output_type": "stream",
     "text": [
      "for k = 24: dp from matrix = 0.004979453144072854, dp_k computed individually = 0.004979453144072857\n"
     ]
    }
   ],
   "source": [
    "# 3b) check dp calculation correct\n",
    "k = 24\n",
    "gft_coeff_k = gft_coeff[k]\n",
    "dp_k = np.abs(\n",
    "    np.sum(gft_coeff_k[class_1_mask])/np.sum(class_1_mask)\n",
    "    - np.sum(gft_coeff_k[class_2_mask])/np.sum(class_2_mask)\n",
    ")/np.sum(np.abs(gft_coeff_k))\n",
    "\n",
    "print(f\"for k = {k}: dp from matrix = {dp[k]}, dp_k computed individually = {dp_k}\")"
   ]
  },
  {
   "cell_type": "code",
   "execution_count": 22,
   "metadata": {},
   "outputs": [
    {
     "data": {
      "text/plain": [
       "Text(0, 0.5, 'Distinguishing Power (DP)')"
      ]
     },
     "execution_count": 22,
     "metadata": {},
     "output_type": "execute_result"
    },
    {
     "data": {
      "image/png": "[encoded data removed]",
      "text/plain": [
       "<Figure size 1440x432 with 1 Axes>"
      ]
     },
     "metadata": {
      "needs_background": "light"
     },
     "output_type": "display_data"
    }
   ],
   "source": [
    "# 4) Plot the DP vs eigenvector index\n",
    "figsize = (20,6)\n",
    "\n",
    "fig,ax = plt.subplots(1,1,figsize=figsize)\n",
    "ax.plot(np.arange(len(dp)),dp)\n",
    "ax.set_xlabel(\"Frequency Index\")\n",
    "ax.set_ylabel(\"Distinguishing Power (DP)\")"
   ]
  },
  {
   "cell_type": "code",
   "execution_count": 23,
   "metadata": {},
   "outputs": [
    {
     "name": "stdout",
     "output_type": "stream",
     "text": [
      "Largest dp frequency index = 2455\n"
     ]
    }
   ],
   "source": [
    "dp_max_k = np.argmax(dp)\n",
    "print(f\"Largest dp frequency index = {dp_max_k}\")"
   ]
  },
  {
   "cell_type": "code",
   "execution_count": 24,
   "metadata": {},
   "outputs": [
    {
     "data": {
      "text/plain": [
       "Text(0, 0.5, 'Distinguishing Power (DP)')"
      ]
     },
     "execution_count": 24,
     "metadata": {},
     "output_type": "execute_result"
    },
    {
     "data": {
      "image/png": "[encoded data removed]",
      "text/plain": [
       "<Figure size 432x432 with 1 Axes>"
      ]
     },
     "metadata": {
      "needs_background": "light"
     },
     "output_type": "display_data"
    }
   ],
   "source": [
    "#5) Plot a boxplot of all the DP\n",
    "figsize = (6,6)\n",
    "\n",
    "fig,ax = plt.subplots(1,1,figsize=figsize)\n",
    "ax.boxplot(dp)\n",
    "ax.set_ylabel(\"Distinguishing Power (DP)\")"
   ]
  },
  {
   "cell_type": "markdown",
   "metadata": {},
   "source": [
    "## b) k-NN classification"
   ]
  },
  {
   "cell_type": "code",
   "execution_count": 25,
   "metadata": {},
   "outputs": [
    {
     "data": {
      "text/plain": [
       "'\\nPurpose: Implemnet a k-NN classifier and report the accuracies for\\ndifferent hyper-parameters of k\\n\\nPseudocode: \\n1) Compute the pairwise Euclidean distance between all observations\\n(using the original vectors and not the GFT coefficients)\\n\\n2) for K in possible k hyperparameters\\na) Predicted Label: Compute the majority label for the k closest neighbors of all datapoint\\nb) Compute accuracy based on ground truth label vs predicted\\n\\n3) Plot the accuracies as a function of k \\n'"
      ]
     },
     "execution_count": 25,
     "metadata": {},
     "output_type": "execute_result"
    }
   ],
   "source": [
    "\"\"\"\n",
    "Purpose: Implemnet a k-NN classifier and report the accuracies for\n",
    "different hyper-parameters of k\n",
    "\n",
    "Pseudocode: \n",
    "1) Compute the pairwise Euclidean distance between all observations\n",
    "(using the original vectors and not the GFT coefficients)\n",
    "\n",
    "2) for K in possible k hyperparameters\n",
    "a) Predicted Label: Compute the majority label for the k closest neighbors of all datapoint\n",
    "b) Compute accuracy based on ground truth label vs predicted\n",
    "\n",
    "3) Plot the accuracies as a function of k \n",
    "\"\"\""
   ]
  },
  {
   "cell_type": "code",
   "execution_count": 26,
   "metadata": {},
   "outputs": [],
   "source": [
    "def knn_classification(\n",
    "    embeddings,\n",
    "    labels,\n",
    "    k_range = (3,5,7),\n",
    "    plot = True,\n",
    "    ):\n",
    "\n",
    "    #1) Compute the pairwise Euclidean distance between all observations\n",
    "    dist_matrix = nu.distance_matrix(\n",
    "        embeddings,embeddings,\n",
    "        verbose = True,\n",
    "    )\n",
    "\n",
    "    #setting the diagonal to inf to prevent self from being in closest neighbors\n",
    "    dist_matrix = dist_matrix + np.diag([np.inf]*len(dist_matrix))\n",
    "    \n",
    "    accuracy_dict = dict()\n",
    "\n",
    "    for k in k_range:\n",
    "        k_nearest_neighbors = np.argsort(dist_matrix,axis=1)[:,:k]\n",
    "        k_nearest_classes = classes[k_nearest_neighbors]\n",
    "        predicted_classes = nu.mode(k_nearest_classes,axis = 1)\n",
    "        accuracy = np.sum(classes == predicted_classes)/len(classes)*100\n",
    "        accuracy_dict[k] = np.round(accuracy,5)\n",
    "\n",
    "    if plot: \n",
    "        fig,ax = plt.subplots(1,1,figsize = (6,6))\n",
    "        ax.bar(\n",
    "            list(accuracy_dict.keys()),\n",
    "            list(accuracy_dict.values()),\n",
    "        )\n",
    "\n",
    "        ax.set_xlabel(\"k\")\n",
    "        ax.set_ylabel(\"Accuracy (%)\")\n",
    "        ax.set_title(\"Histology Prediction Accuracy vs K\")\n",
    "        \n",
    "    return accuracy_dict"
   ]
  },
  {
   "cell_type": "code",
   "execution_count": 27,
   "metadata": {},
   "outputs": [
    {
     "name": "stdout",
     "output_type": "stream",
     "text": [
      "Total time for distance matrix = 3.079927444458008\n"
     ]
    },
    {
     "data": {
      "text/plain": [
       "{3: 88.33333, 5: 88.33333, 7: 85.41667}"
      ]
     },
     "execution_count": 27,
     "metadata": {},
     "output_type": "execute_result"
    },
    {
     "data": {
      "image/png": "[encoded data removed]",
      "text/plain": [
       "<Figure size 432x432 with 1 Axes>"
      ]
     },
     "metadata": {
      "needs_background": "light"
     },
     "output_type": "display_data"
    }
   ],
   "source": [
    "knn_classification(\n",
    "    embeddings=genetic_prof,\n",
    "    labels=classes,\n",
    "    plot = True,\n",
    ")"
   ]
  },
  {
   "cell_type": "markdown",
   "metadata": {},
   "source": [
    "## c) Filtering almost al frequencies"
   ]
  },
  {
   "cell_type": "code",
   "execution_count": 28,
   "metadata": {},
   "outputs": [
    {
     "data": {
      "text/plain": [
       "'\\nPurpose: Re-run the k-NN classification\\nbut using the original graph signals after\\npassing through a bandpass filter only allowing \\nthe largest DP frequency\\n\\nPseudocode: \\n1) Build function that converts DP ranking\\nor percentiles to the idx of the basic vectors\\nto keep in the filter\\n\\n2) Compute the filtered graph signals by\\ny = U @ h(diag) @ U^T @ x\\n- h(x) zeros out all rows not in bandpass\\n- x: original graph sgnals\\n\\n3) Run the kNN classification\\n'"
      ]
     },
     "execution_count": 28,
     "metadata": {},
     "output_type": "execute_result"
    }
   ],
   "source": [
    "\"\"\"\n",
    "Purpose: Re-run the k-NN classification\n",
    "but using the original graph signals after\n",
    "passing through a bandpass filter only allowing \n",
    "the largest DP frequency\n",
    "\n",
    "Pseudocode: \n",
    "1) Build function that converts DP ranking\n",
    "or percentiles to the idx of the basic vectors\n",
    "to keep in the filter\n",
    "\n",
    "2) Compute the filtered graph signals by\n",
    "y = U @ h(diag) @ U^T @ x\n",
    "- h(x) zeros out all rows not in bandpass\n",
    "- x: original graph sgnals\n",
    "\n",
    "3) Run the kNN classification\n",
    "\"\"\""
   ]
  },
  {
   "cell_type": "code",
   "execution_count": 29,
   "metadata": {},
   "outputs": [
    {
     "name": "stdout",
     "output_type": "stream",
     "text": [
      "Using n_highest_dp method \n",
      "Using percentile method \n",
      "95th percentile value = 0.0027634102011862604\n"
     ]
    },
    {
     "data": {
      "text/plain": [
       "array([2455,   17,   20,    6,   23,   14,   12,   19,   29,    4,    0,\n",
       "          1,   24, 1685, 1534,   30,   31, 1805, 2451, 2016, 2456, 2323,\n",
       "       1697, 2001,   10, 2341, 1436, 2267, 1679,  621,   28,    3, 2206,\n",
       "        587,   15, 1676,   13,    9, 1698, 1936,  479, 2432, 2027,  616,\n",
       "        872, 1744, 1675, 2442, 1977, 1069,  733, 1206, 1690, 1941,   64,\n",
       "       2059, 1860,  172, 1976, 1082, 1013, 2450,   25, 2402, 2208,  101,\n",
       "          2, 1740,   22, 2068,  233, 1564, 1732, 1813, 1807, 2212,  105,\n",
       "       1796,  539, 1474,  170,  883, 1530, 2279,   85, 2392, 2095, 1257,\n",
       "       1166,  435, 1510, 1641,  124, 2222, 2215, 1642, 2162, 2405, 1776,\n",
       "       1529,    8, 1431,  656, 1671, 2042, 2176, 1706, 1893,  810, 1366,\n",
       "       2144, 1673,  490, 1825, 1151, 1951,   49,  441, 2061,  802, 1053,\n",
       "       2211, 1968])"
      ]
     },
     "execution_count": 29,
     "metadata": {},
     "output_type": "execute_result"
    }
   ],
   "source": [
    "\"\"\"\n",
    "1) Build function that converts DP ranking\n",
    "or percentiles to the idx of the basic vectors\n",
    "to keep in the filter\n",
    "\"\"\"\n",
    "\n",
    "def freq_idx_from_dp_criteria(\n",
    "    dp_values,\n",
    "    n_highest_dp = None,\n",
    "    percentile_dp = None,\n",
    "    return_mask = False,\n",
    "    verbose = False,\n",
    "    ):\n",
    "    \n",
    "    dp_values = np.array(dp_values)\n",
    "    \n",
    "    if n_highest_dp is not None:\n",
    "        if verbose:\n",
    "            print(f\"Using n_highest_dp method \")\n",
    "        return_idx = np.flip(np.argsort(dp_values))[:n_highest_dp]\n",
    "    elif percentile_dp is not None:\n",
    "        if verbose:\n",
    "            print(f\"Using percentile method \")\n",
    "        perc_value = np.percentile(dp_values,percentile_dp)\n",
    "        if verbose:\n",
    "            print(f\"{percentile_dp}th percentile value = {perc_value}\")\n",
    "        return_idx = np.where(dp_values >= perc_value)[0]\n",
    "        return_idx = return_idx[np.flip(np.argsort(dp_values[return_idx]))]\n",
    "    else:\n",
    "        raise Exception(\"\")\n",
    "        \n",
    "    if return_mask:\n",
    "        if verbose:\n",
    "            print(f\"Returning mask\")\n",
    "        return_mask = np.zeros(len(dp_values)).astype('bool')\n",
    "        return_mask[return_idx] = True\n",
    "        return return_mask\n",
    "    else:\n",
    "        return return_idx\n",
    "    \n",
    "freq_idx_from_dp_criteria(\n",
    "    dp,\n",
    "    n_highest_dp = 10,\n",
    "    verbose = True, \n",
    ")\n",
    "\n",
    "freq_idx_from_dp_criteria(\n",
    "    dp,\n",
    "    percentile_dp = 95,\n",
    "    verbose = True, \n",
    ")"
   ]
  },
  {
   "cell_type": "markdown",
   "metadata": {},
   "source": [
    "### -- graph fourier transform filter ---"
   ]
  },
  {
   "cell_type": "code",
   "execution_count": 58,
   "metadata": {},
   "outputs": [],
   "source": [
    "def graph_signals_filter(\n",
    "    x,\n",
    "    U,\n",
    "    eigvals,\n",
    "    # for determining the frequencies to keep\n",
    "    freq_keep_idx = None,\n",
    "    dp = None,\n",
    "    n_highest_dp = None,\n",
    "    percentile_dp = None,\n",
    "    \n",
    "    verbose = False,\n",
    "    ):\n",
    "    \"\"\"\n",
    "    Purpose: to compute the \n",
    "    graph signals after passing through a \n",
    "    graph fourier transform\n",
    "    \"\"\"\n",
    "    \n",
    "    if freq_keep_idx is None:\n",
    "        freq_keep_idx = freq_idx_from_dp_criteria(\n",
    "            dp,\n",
    "            n_highest_dp = n_highest_dp,\n",
    "            percentile_dp=percentile_dp,\n",
    "            verbose = verbose, \n",
    "            return_mask = False\n",
    "        )\n",
    "        \n",
    "    if verbose:\n",
    "        print(f\"freq_keep_idx = {freq_keep_idx}\")\n",
    "        \n",
    "    \n",
    "    \n",
    "    freq_keep_mask = np.zeros((len(U))).astype('bool')\n",
    "    \n",
    "    #print(f\"# of non_zero values freq_keep_mask = {np.sum(freq_keep_mask == True)}\")\n",
    "    freq_keep_mask[freq_keep_idx] = True\n",
    "    #print(f\"# of non_zero values freq_keep_mask = {np.sum(freq_keep_mask == True)}\")\n",
    "    \n",
    "    \n",
    "    # computing the graph fourier polynomial of the diagonal matrix\n",
    "    eig_values_filt = eigvals.copy()\n",
    "    eig_values_filt[~freq_keep_mask] = 0\n",
    "    DM = np.diag(eig_values_filt)\n",
    "    \n",
    "    if verbose:\n",
    "        print(f\"# of non_zero values = {np.sum(eig_values_filt > 0.0001)}\")\n",
    "        print(f\"# of non zero DM values = {np.sum(DM.ravel() > 0.0001)}\")\n",
    "\n",
    "    y_dp_max = U@DM@(U.T)@x\n",
    "    return y_dp_max"
   ]
  },
  {
   "cell_type": "code",
   "execution_count": 59,
   "metadata": {},
   "outputs": [
    {
     "name": "stdout",
     "output_type": "stream",
     "text": [
      "Using n_highest_dp method \n",
      "freq_keep_idx = [2455]\n",
      "# of non_zero values = 1\n",
      "# of non zero DM values = 1\n",
      "Total time for distance matrix = 0.5228261947631836\n"
     ]
    },
    {
     "data": {
      "text/plain": [
       "{3: 90.0, 5: 88.75, 7: 89.16667}"
      ]
     },
     "execution_count": 59,
     "metadata": {},
     "output_type": "execute_result"
    },
    {
     "data": {
      "image/png": "[encoded data removed]",
      "text/plain": [
       "<Figure size 432x432 with 1 Axes>"
      ]
     },
     "metadata": {
      "needs_background": "light"
     },
     "output_type": "display_data"
    }
   ],
   "source": [
    "y_dp_max = graph_signals_filter(\n",
    "    x = genetic_prof.T,\n",
    "    U = eigvecs,\n",
    "    eigvals = eigvals,\n",
    "    \n",
    "    dp = dp,\n",
    "    n_highest_dp=1,\n",
    "    \n",
    "    verbose = True,\n",
    ")\n",
    "\n",
    "knn_accuracy = knn_classification(\n",
    "    embeddings=y_dp_max.T,\n",
    "    labels=classes,\n",
    "    plot = True,\n",
    ")\n",
    "\n",
    "knn_accuracy"
   ]
  },
  {
   "cell_type": "markdown",
   "metadata": {},
   "source": [
    "## d) Filtering Most Frequencies"
   ]
  },
  {
   "cell_type": "code",
   "execution_count": 60,
   "metadata": {},
   "outputs": [
    {
     "name": "stdout",
     "output_type": "stream",
     "text": [
      "Using percentile method \n",
      "75th percentile value = 0.0015960241065402702\n",
      "freq_keep_idx = [2455   17   20    6   23   14   12   19   29    4    0    1   24 1685\n",
      " 1534   30   31 1805 2451 2016 2456 2323 1697 2001   10 2341 1436 2267\n",
      " 1679  621   28    3 2206  587   15 1676   13    9 1698 1936  479 2432\n",
      " 2027  616  872 1744 1675 2442 1977 1069  733 1206 1690 1941   64 2059\n",
      " 1860  172 1976 1082 1013 2450   25 2402 2208  101    2 1740   22 2068\n",
      "  233 1564 1732 1813 1807 2212  105 1796  539 1474  170  883 1530 2279\n",
      "   85 2392 2095 1257 1166  435 1510 1641  124 2222 2215 1642 2162 2405\n",
      " 1776 1529    8 1431  656 1671 2042 2176 1706 1893  810 1366 2144 1673\n",
      "  490 1825 1151 1951   49  441 2061  802 1053 2211 1968  755 2205 1713\n",
      " 2137  162 2449 1629 2272 1301  130 1691 1003  633 1071 1684  168 2238\n",
      " 2105  310  886  110  520  470 1032 1581 2420   53 1412  898  610  423\n",
      "  902 1664 1502 2098 1682 1661   18 1988  820 1631 1545  599  175 2433\n",
      "  442 1663 1935 1768  558 2454 2253  163 2340 1692 1505 1370 2331  507\n",
      "  148 2400 1972  725   87  218  926 1755 1459 1680 1677 1383 2261 1736\n",
      "  745 1940 2353 1659  787  889 2381  716 1329 2399 1262  499  492 2423\n",
      " 2083 2372 2216 1343 1738 2350  439 1809  594 1609  464  174 1279  111\n",
      "   70 1232 1559 1023 1774 2149 2409  159 2088 2355 2199 2347 1636 1444\n",
      " 1592  854  471   27 1367 1319  645 2394  327  995  496  597  151 1320\n",
      " 1587 1646 1377 1339  853 1193 1083  885  432 1852 1332  987 1241 2186\n",
      " 1926  771 2408  391 2352 1418  341 1863 1582 2152 1975 2336  967 1362\n",
      "   51  952 2082   72  165 1763  475  649  267 1644 1169  799 2069 1076\n",
      "  684 1795 1483 1446 2386  510 1590  714 1793  363 1566 1745  751  694\n",
      "  399  433 1467 1516  600 1610 1434 1612 1519 1946 2321 1840   74 1912\n",
      " 1178 2448 1600 1409 1634  974 1826 1932  747  273 2004 1218 2177 1495\n",
      "  129  988 1884 1153 1563 2228 2214  135 1413 1617 2109 1626 2337 2276\n",
      " 2018 2207 2192  265 2263  538 1683  416 2260 1437   34 1420 1008  919\n",
      "  458  481 2175  406  767  813 2074 2348 1557  710 1441  106  809  543\n",
      " 1084  478 1971 2115  467  958 1668 1970 1443  257  173  761 2054  256\n",
      " 1503 2288 1707  744 2055 1914 2108  605  404 1473 1228 1728  513 1350\n",
      "  588 1207  762 2285  821 1717  870 1124 1213 1422  827  781 2050 1901\n",
      " 1765 1748  491  171 1719  390 1810 1784  522 1277 1824 1163 1710 2299\n",
      "  777  704 1953  567  266 1605 1922 1490  301 1466  601  516 1400   65\n",
      " 1638 1790 1234 1325   86 2070 1602  573 1750 1978  116  734  713 1456\n",
      " 1733  373 1839 1622  548  806 2039 2309 1614 2416 1589 1778  591  613\n",
      "    5 1051 2086 2324 1821 1803 1455 2025  419 1477 1249 2268  805 1027\n",
      " 1208 1811  897 1229 1255  422  800 1845  177 2142 1449  418  697 2067\n",
      "  997 1233 2274 1983 2452  950  448  219  214 2013  671  181 1360 2327\n",
      " 2243 1327 1381  577 2344 1414 2129  454 1507 1551  915  847  831 2148\n",
      " 1591 2248 2128 1393 1783 1662 1433 2040  431 1411   99  589  568   39\n",
      "   92  989 2141 2106 1187 2081  618 1175  576  534 2413  961  672  583\n",
      " 1096  294  929 1353 2066  532 1896 2378  369  975  243  904 1078 2048\n",
      " 1227 1086   62 1445 1453  730   16 1348 2017  979  923 1694 1543 1741\n",
      " 1756  693   26 1928  314  839 1869 1237 1843 1064  874  428  365 1372\n",
      " 1576 2339  984 1878 2278  526 1442 2072 2060 1118 2221 1388 1015]\n",
      "# of non_zero values = 586\n",
      "# of non zero DM values = 586\n",
      "Total time for distance matrix = 0.5206761360168457\n",
      "Using percentile method \n",
      "80th percentile value = 0.0017517544724204148\n",
      "freq_keep_idx = [2455   17   20    6   23   14   12   19   29    4    0    1   24 1685\n",
      " 1534   30   31 1805 2451 2016 2456 2323 1697 2001   10 2341 1436 2267\n",
      " 1679  621   28    3 2206  587   15 1676   13    9 1698 1936  479 2432\n",
      " 2027  616  872 1744 1675 2442 1977 1069  733 1206 1690 1941   64 2059\n",
      " 1860  172 1976 1082 1013 2450   25 2402 2208  101    2 1740   22 2068\n",
      "  233 1564 1732 1813 1807 2212  105 1796  539 1474  170  883 1530 2279\n",
      "   85 2392 2095 1257 1166  435 1510 1641  124 2222 2215 1642 2162 2405\n",
      " 1776 1529    8 1431  656 1671 2042 2176 1706 1893  810 1366 2144 1673\n",
      "  490 1825 1151 1951   49  441 2061  802 1053 2211 1968  755 2205 1713\n",
      " 2137  162 2449 1629 2272 1301  130 1691 1003  633 1071 1684  168 2238\n",
      " 2105  310  886  110  520  470 1032 1581 2420   53 1412  898  610  423\n",
      "  902 1664 1502 2098 1682 1661   18 1988  820 1631 1545  599  175 2433\n",
      "  442 1663 1935 1768  558 2454 2253  163 2340 1692 1505 1370 2331  507\n",
      "  148 2400 1972  725   87  218  926 1755 1459 1680 1677 1383 2261 1736\n",
      "  745 1940 2353 1659  787  889 2381  716 1329 2399 1262  499  492 2423\n",
      " 2083 2372 2216 1343 1738 2350  439 1809  594 1609  464  174 1279  111\n",
      "   70 1232 1559 1023 1774 2149 2409  159 2088 2355 2199 2347 1636 1444\n",
      " 1592  854  471   27 1367 1319  645 2394  327  995  496  597  151 1320\n",
      " 1587 1646 1377 1339  853 1193 1083  885  432 1852 1332  987 1241 2186\n",
      " 1926  771 2408  391 2352 1418  341 1863 1582 2152 1975 2336  967 1362\n",
      "   51  952 2082   72  165 1763  475  649  267 1644 1169  799 2069 1076\n",
      "  684 1795 1483 1446 2386  510 1590  714 1793  363 1566 1745  751  694\n",
      "  399  433 1467 1516  600 1610 1434 1612 1519 1946 2321 1840   74 1912\n",
      " 1178 2448 1600 1409 1634  974 1826 1932  747  273 2004 1218 2177 1495\n",
      "  129  988 1884 1153 1563 2228 2214  135 1413 1617 2109 1626 2337 2276\n",
      " 2018 2207 2192  265 2263  538 1683  416 2260 1437   34 1420 1008  919\n",
      "  458  481 2175  406  767  813 2074 2348 1557  710 1441  106  809  543\n",
      " 1084  478 1971 2115  467  958 1668 1970 1443  257  173  761 2054  256\n",
      " 1503 2288 1707  744 2055 1914 2108  605  404 1473 1228 1728  513 1350\n",
      "  588 1207  762 2285  821 1717  870 1124 1213 1422  827  781 2050 1901\n",
      " 1765 1748  491  171 1719  390 1810 1784  522 1277 1824 1163 1710 2299\n",
      "  777  704 1953  567  266 1605 1922 1490  301 1466  601  516 1400   65\n",
      " 1638 1790 1234 1325   86 2070 1602  573 1750 1978  116  734  713 1456\n",
      " 1733  373 1839 1622  548  806 2039 2309 1614 2416 1589 1778  591  613\n",
      "    5 1051 2086 2324 1821 1803 1455 2025  419 1477 1249 2268  805 1027\n",
      " 1208 1811]\n",
      "# of non_zero values = 465\n",
      "# of non zero DM values = 465\n",
      "Total time for distance matrix = 0.4685039520263672\n",
      "Using percentile method \n",
      "85th percentile value = 0.0019967478297516932\n",
      "freq_keep_idx = [2455   17   20    6   23   14   12   19   29    4    0    1   24 1685\n",
      " 1534   30   31 1805 2451 2016 2456 2323 1697 2001   10 2341 1436 2267\n",
      " 1679  621   28    3 2206  587   15 1676   13    9 1698 1936  479 2432\n",
      " 2027  616  872 1744 1675 2442 1977 1069  733 1206 1690 1941   64 2059\n",
      " 1860  172 1976 1082 1013 2450   25 2402 2208  101    2 1740   22 2068\n",
      "  233 1564 1732 1813 1807 2212  105 1796  539 1474  170  883 1530 2279\n",
      "   85 2392 2095 1257 1166  435 1510 1641  124 2222 2215 1642 2162 2405\n",
      " 1776 1529    8 1431  656 1671 2042 2176 1706 1893  810 1366 2144 1673\n",
      "  490 1825 1151 1951   49  441 2061  802 1053 2211 1968  755 2205 1713\n",
      " 2137  162 2449 1629 2272 1301  130 1691 1003  633 1071 1684  168 2238\n",
      " 2105  310  886  110  520  470 1032 1581 2420   53 1412  898  610  423\n",
      "  902 1664 1502 2098 1682 1661   18 1988  820 1631 1545  599  175 2433\n",
      "  442 1663 1935 1768  558 2454 2253  163 2340 1692 1505 1370 2331  507\n",
      "  148 2400 1972  725   87  218  926 1755 1459 1680 1677 1383 2261 1736\n",
      "  745 1940 2353 1659  787  889 2381  716 1329 2399 1262  499  492 2423\n",
      " 2083 2372 2216 1343 1738 2350  439 1809  594 1609  464  174 1279  111\n",
      "   70 1232 1559 1023 1774 2149 2409  159 2088 2355 2199 2347 1636 1444\n",
      " 1592  854  471   27 1367 1319  645 2394  327  995  496  597  151 1320\n",
      " 1587 1646 1377 1339  853 1193 1083  885  432 1852 1332  987 1241 2186\n",
      " 1926  771 2408  391 2352 1418  341 1863 1582 2152 1975 2336  967 1362\n",
      "   51  952 2082   72  165 1763  475  649  267 1644 1169  799 2069 1076\n",
      "  684 1795 1483 1446 2386  510 1590  714 1793  363 1566 1745  751  694\n",
      "  399  433 1467 1516  600 1610 1434 1612 1519 1946 2321 1840   74 1912\n",
      " 1178 2448 1600 1409 1634  974 1826 1932  747  273 2004 1218 2177 1495\n",
      "  129  988 1884 1153 1563 2228 2214  135 1413 1617 2109 1626 2337 2276\n",
      " 2018 2207 2192  265 2263  538 1683  416 2260 1437   34 1420 1008  919\n",
      "  458  481 2175  406  767]\n",
      "# of non_zero values = 343\n",
      "# of non zero DM values = 343\n",
      "Total time for distance matrix = 0.9997289180755615\n",
      "Using percentile method \n",
      "90th percentile value = 0.0023257234054479417\n",
      "freq_keep_idx = [2455   17   20    6   23   14   12   19   29    4    0    1   24 1685\n",
      " 1534   30   31 1805 2451 2016 2456 2323 1697 2001   10 2341 1436 2267\n",
      " 1679  621   28    3 2206  587   15 1676   13    9 1698 1936  479 2432\n",
      " 2027  616  872 1744 1675 2442 1977 1069  733 1206 1690 1941   64 2059\n",
      " 1860  172 1976 1082 1013 2450   25 2402 2208  101    2 1740   22 2068\n",
      "  233 1564 1732 1813 1807 2212  105 1796  539 1474  170  883 1530 2279\n",
      "   85 2392 2095 1257 1166  435 1510 1641  124 2222 2215 1642 2162 2405\n",
      " 1776 1529    8 1431  656 1671 2042 2176 1706 1893  810 1366 2144 1673\n",
      "  490 1825 1151 1951   49  441 2061  802 1053 2211 1968  755 2205 1713\n",
      " 2137  162 2449 1629 2272 1301  130 1691 1003  633 1071 1684  168 2238\n",
      " 2105  310  886  110  520  470 1032 1581 2420   53 1412  898  610  423\n",
      "  902 1664 1502 2098 1682 1661   18 1988  820 1631 1545  599  175 2433\n",
      "  442 1663 1935 1768  558 2454 2253  163 2340 1692 1505 1370 2331  507\n",
      "  148 2400 1972  725   87  218  926 1755 1459 1680 1677 1383 2261 1736\n",
      "  745 1940 2353 1659  787  889 2381  716 1329 2399 1262  499  492 2423\n",
      " 2083 2372 2216 1343 1738 2350  439 1809  594 1609  464  174 1279  111\n",
      "   70 1232 1559 1023 1774 2149 2409  159 2088 2355 2199 2347 1636 1444\n",
      " 1592  854  471   27 1367 1319  645 2394]\n",
      "# of non_zero values = 220\n",
      "# of non zero DM values = 220\n"
     ]
    },
    {
     "name": "stdout",
     "output_type": "stream",
     "text": [
      "Total time for distance matrix = 0.5083262920379639\n",
      "Using percentile method \n",
      "95th percentile value = 0.0027634102011862604\n",
      "freq_keep_idx = [2455   17   20    6   23   14   12   19   29    4    0    1   24 1685\n",
      " 1534   30   31 1805 2451 2016 2456 2323 1697 2001   10 2341 1436 2267\n",
      " 1679  621   28    3 2206  587   15 1676   13    9 1698 1936  479 2432\n",
      " 2027  616  872 1744 1675 2442 1977 1069  733 1206 1690 1941   64 2059\n",
      " 1860  172 1976 1082 1013 2450   25 2402 2208  101    2 1740   22 2068\n",
      "  233 1564 1732 1813 1807 2212  105 1796  539 1474  170  883 1530 2279\n",
      "   85 2392 2095 1257 1166  435 1510 1641  124 2222 2215 1642 2162 2405\n",
      " 1776 1529    8 1431  656 1671 2042 2176 1706 1893  810 1366 2144 1673\n",
      "  490 1825 1151 1951   49  441 2061  802 1053 2211 1968]\n",
      "# of non_zero values = 99\n",
      "# of non zero DM values = 99\n",
      "Total time for distance matrix = 0.9988455772399902\n"
     ]
    },
    {
     "data": {
      "text/plain": [
       "[{'percentile': 75, 'k': 3, 'accuracy': 86.66667},\n",
       " {'percentile': 75, 'k': 5, 'accuracy': 89.58333},\n",
       " {'percentile': 75, 'k': 7, 'accuracy': 90.83333},\n",
       " {'percentile': 80, 'k': 3, 'accuracy': 86.25},\n",
       " {'percentile': 80, 'k': 5, 'accuracy': 89.16667},\n",
       " {'percentile': 80, 'k': 7, 'accuracy': 90.83333},\n",
       " {'percentile': 85, 'k': 3, 'accuracy': 89.16667},\n",
       " {'percentile': 85, 'k': 5, 'accuracy': 89.58333},\n",
       " {'percentile': 85, 'k': 7, 'accuracy': 90.83333},\n",
       " {'percentile': 90, 'k': 3, 'accuracy': 90.0},\n",
       " {'percentile': 90, 'k': 5, 'accuracy': 89.58333},\n",
       " {'percentile': 90, 'k': 7, 'accuracy': 90.83333},\n",
       " {'percentile': 95, 'k': 3, 'accuracy': 90.41667},\n",
       " {'percentile': 95, 'k': 5, 'accuracy': 89.58333},\n",
       " {'percentile': 95, 'k': 7, 'accuracy': 90.83333}]"
      ]
     },
     "execution_count": 60,
     "metadata": {},
     "output_type": "execute_result"
    }
   ],
   "source": [
    "perc_range = [75,80,85,90,95]\n",
    "plot = False\n",
    "\n",
    "all_results = []\n",
    "for perc in perc_range:\n",
    "    y_dp_perc = graph_signals_filter(\n",
    "        x = genetic_prof.T,\n",
    "        U = eigvecs,\n",
    "        eigvals = eigvals,\n",
    "\n",
    "        dp = dp,\n",
    "        percentile_dp=perc,\n",
    "\n",
    "        verbose = True,\n",
    "    )\n",
    "\n",
    "    knn_accuracy = knn_classification(\n",
    "        embeddings=y_dp_perc.T,\n",
    "        labels=classes,\n",
    "        plot = plot,\n",
    "    )\n",
    "    \n",
    "    all_results += [dict(percentile = perc,k = k, accuracy = v) for k,v in \n",
    "                   knn_accuracy.items()]\n",
    "    \n",
    "all_results"
   ]
  },
  {
   "cell_type": "code",
   "execution_count": 61,
   "metadata": {
    "scrolled": true
   },
   "outputs": [
    {
     "data": {
      "text/html": [
       "<div>\n",
       "<style scoped>\n",
       "    .dataframe tbody tr th:only-of-type {\n",
       "        vertical-align: middle;\n",
       "    }\n",
       "\n",
       "    .dataframe tbody tr th {\n",
       "        vertical-align: top;\n",
       "    }\n",
       "\n",
       "    .dataframe thead th {\n",
       "        text-align: right;\n",
       "    }\n",
       "</style>\n",
       "<table border=\"1\" class=\"dataframe\">\n",
       "  <thead>\n",
       "    <tr style=\"text-align: right;\">\n",
       "      <th></th>\n",
       "      <th>percentile</th>\n",
       "      <th>k</th>\n",
       "      <th>accuracy</th>\n",
       "    </tr>\n",
       "  </thead>\n",
       "  <tbody>\n",
       "    <tr>\n",
       "      <th>0</th>\n",
       "      <td>75</td>\n",
       "      <td>3</td>\n",
       "      <td>86.66667</td>\n",
       "    </tr>\n",
       "    <tr>\n",
       "      <th>1</th>\n",
       "      <td>75</td>\n",
       "      <td>5</td>\n",
       "      <td>89.58333</td>\n",
       "    </tr>\n",
       "    <tr>\n",
       "      <th>2</th>\n",
       "      <td>75</td>\n",
       "      <td>7</td>\n",
       "      <td>90.83333</td>\n",
       "    </tr>\n",
       "    <tr>\n",
       "      <th>3</th>\n",
       "      <td>80</td>\n",
       "      <td>3</td>\n",
       "      <td>86.25000</td>\n",
       "    </tr>\n",
       "    <tr>\n",
       "      <th>4</th>\n",
       "      <td>80</td>\n",
       "      <td>5</td>\n",
       "      <td>89.16667</td>\n",
       "    </tr>\n",
       "    <tr>\n",
       "      <th>5</th>\n",
       "      <td>80</td>\n",
       "      <td>7</td>\n",
       "      <td>90.83333</td>\n",
       "    </tr>\n",
       "    <tr>\n",
       "      <th>6</th>\n",
       "      <td>85</td>\n",
       "      <td>3</td>\n",
       "      <td>89.16667</td>\n",
       "    </tr>\n",
       "    <tr>\n",
       "      <th>7</th>\n",
       "      <td>85</td>\n",
       "      <td>5</td>\n",
       "      <td>89.58333</td>\n",
       "    </tr>\n",
       "    <tr>\n",
       "      <th>8</th>\n",
       "      <td>85</td>\n",
       "      <td>7</td>\n",
       "      <td>90.83333</td>\n",
       "    </tr>\n",
       "    <tr>\n",
       "      <th>9</th>\n",
       "      <td>90</td>\n",
       "      <td>3</td>\n",
       "      <td>90.00000</td>\n",
       "    </tr>\n",
       "    <tr>\n",
       "      <th>10</th>\n",
       "      <td>90</td>\n",
       "      <td>5</td>\n",
       "      <td>89.58333</td>\n",
       "    </tr>\n",
       "    <tr>\n",
       "      <th>11</th>\n",
       "      <td>90</td>\n",
       "      <td>7</td>\n",
       "      <td>90.83333</td>\n",
       "    </tr>\n",
       "    <tr>\n",
       "      <th>12</th>\n",
       "      <td>95</td>\n",
       "      <td>3</td>\n",
       "      <td>90.41667</td>\n",
       "    </tr>\n",
       "    <tr>\n",
       "      <th>13</th>\n",
       "      <td>95</td>\n",
       "      <td>5</td>\n",
       "      <td>89.58333</td>\n",
       "    </tr>\n",
       "    <tr>\n",
       "      <th>14</th>\n",
       "      <td>95</td>\n",
       "      <td>7</td>\n",
       "      <td>90.83333</td>\n",
       "    </tr>\n",
       "  </tbody>\n",
       "</table>\n",
       "</div>"
      ],
      "text/plain": [
       "    percentile  k  accuracy\n",
       "0           75  3  86.66667\n",
       "1           75  5  89.58333\n",
       "2           75  7  90.83333\n",
       "3           80  3  86.25000\n",
       "4           80  5  89.16667\n",
       "5           80  7  90.83333\n",
       "6           85  3  89.16667\n",
       "7           85  5  89.58333\n",
       "8           85  7  90.83333\n",
       "9           90  3  90.00000\n",
       "10          90  5  89.58333\n",
       "11          90  7  90.83333\n",
       "12          95  3  90.41667\n",
       "13          95  5  89.58333\n",
       "14          95  7  90.83333"
      ]
     },
     "execution_count": 61,
     "metadata": {},
     "output_type": "execute_result"
    }
   ],
   "source": [
    "import pandas as pd\n",
    "df = pd.DataFrame.from_records(all_results)\n",
    "df"
   ]
  },
  {
   "cell_type": "markdown",
   "metadata": {},
   "source": [
    "# Problem 2.2"
   ]
  },
  {
   "cell_type": "code",
   "execution_count": 73,
   "metadata": {},
   "outputs": [],
   "source": [
    "import pandas_utils as pu\n",
    "import networkx_utils as xu"
   ]
  },
  {
   "cell_type": "markdown",
   "metadata": {},
   "source": [
    "## A) Construct a network from the flight data"
   ]
  },
  {
   "cell_type": "code",
   "execution_count": 69,
   "metadata": {},
   "outputs": [],
   "source": [
    "nodes_filepath = \"./Data/epidemics/airport_Nodes_GC.csv\"\n",
    "edges_filepath = \"./Data/epidemics/airport_Edges_GC.csv\""
   ]
  },
  {
   "cell_type": "code",
   "execution_count": 68,
   "metadata": {},
   "outputs": [
    {
     "data": {
      "text/html": [
       "<div>\n",
       "<style scoped>\n",
       "    .dataframe tbody tr th:only-of-type {\n",
       "        vertical-align: middle;\n",
       "    }\n",
       "\n",
       "    .dataframe tbody tr th {\n",
       "        vertical-align: top;\n",
       "    }\n",
       "\n",
       "    .dataframe thead th {\n",
       "        text-align: right;\n",
       "    }\n",
       "</style>\n",
       "<table border=\"1\" class=\"dataframe\">\n",
       "  <thead>\n",
       "    <tr style=\"text-align: right;\">\n",
       "      <th></th>\n",
       "      <th>Id</th>\n",
       "      <th>Name</th>\n",
       "      <th>City</th>\n",
       "      <th>Country</th>\n",
       "      <th>IATA/FAA</th>\n",
       "      <th>ICAO</th>\n",
       "      <th>Latitude</th>\n",
       "      <th>Longitude</th>\n",
       "      <th>Altitude</th>\n",
       "      <th>Timezone</th>\n",
       "      <th>DST</th>\n",
       "      <th>Component ID</th>\n",
       "    </tr>\n",
       "  </thead>\n",
       "  <tbody>\n",
       "    <tr>\n",
       "      <th>0</th>\n",
       "      <td>1</td>\n",
       "      <td>Goroka</td>\n",
       "      <td>Goroka</td>\n",
       "      <td>Papua New Guinea</td>\n",
       "      <td>GKA</td>\n",
       "      <td>AYGA</td>\n",
       "      <td>-6.081689</td>\n",
       "      <td>145.391881</td>\n",
       "      <td>5282.0</td>\n",
       "      <td>10.0</td>\n",
       "      <td>U</td>\n",
       "      <td>0</td>\n",
       "    </tr>\n",
       "    <tr>\n",
       "      <th>1</th>\n",
       "      <td>2</td>\n",
       "      <td>Madang</td>\n",
       "      <td>Madang</td>\n",
       "      <td>Papua New Guinea</td>\n",
       "      <td>MAG</td>\n",
       "      <td>AYMD</td>\n",
       "      <td>-5.207083</td>\n",
       "      <td>145.788700</td>\n",
       "      <td>20.0</td>\n",
       "      <td>10.0</td>\n",
       "      <td>U</td>\n",
       "      <td>0</td>\n",
       "    </tr>\n",
       "    <tr>\n",
       "      <th>2</th>\n",
       "      <td>3</td>\n",
       "      <td>Mount Hagen</td>\n",
       "      <td>Mount Hagen</td>\n",
       "      <td>Papua New Guinea</td>\n",
       "      <td>HGU</td>\n",
       "      <td>AYMH</td>\n",
       "      <td>-5.826789</td>\n",
       "      <td>144.295861</td>\n",
       "      <td>5388.0</td>\n",
       "      <td>10.0</td>\n",
       "      <td>U</td>\n",
       "      <td>0</td>\n",
       "    </tr>\n",
       "    <tr>\n",
       "      <th>3</th>\n",
       "      <td>4</td>\n",
       "      <td>Nadzab</td>\n",
       "      <td>Nadzab</td>\n",
       "      <td>Papua New Guinea</td>\n",
       "      <td>LAE</td>\n",
       "      <td>AYNZ</td>\n",
       "      <td>-6.569828</td>\n",
       "      <td>146.726242</td>\n",
       "      <td>239.0</td>\n",
       "      <td>10.0</td>\n",
       "      <td>U</td>\n",
       "      <td>0</td>\n",
       "    </tr>\n",
       "    <tr>\n",
       "      <th>4</th>\n",
       "      <td>5</td>\n",
       "      <td>Port Moresby Jacksons Intl</td>\n",
       "      <td>Port Moresby</td>\n",
       "      <td>Papua New Guinea</td>\n",
       "      <td>POM</td>\n",
       "      <td>AYPY</td>\n",
       "      <td>-9.443383</td>\n",
       "      <td>147.220050</td>\n",
       "      <td>146.0</td>\n",
       "      <td>10.0</td>\n",
       "      <td>U</td>\n",
       "      <td>0</td>\n",
       "    </tr>\n",
       "    <tr>\n",
       "      <th>...</th>\n",
       "      <td>...</td>\n",
       "      <td>...</td>\n",
       "      <td>...</td>\n",
       "      <td>...</td>\n",
       "      <td>...</td>\n",
       "      <td>...</td>\n",
       "      <td>...</td>\n",
       "      <td>...</td>\n",
       "      <td>...</td>\n",
       "      <td>...</td>\n",
       "      <td>...</td>\n",
       "      <td>...</td>\n",
       "    </tr>\n",
       "    <tr>\n",
       "      <th>2900</th>\n",
       "      <td>7898</td>\n",
       "      <td>Huai An Lianshui Airport</td>\n",
       "      <td>Huai An</td>\n",
       "      <td>China</td>\n",
       "      <td>HIA</td>\n",
       "      <td>ZSSH</td>\n",
       "      <td>33.777200</td>\n",
       "      <td>119.147800</td>\n",
       "      <td>23.0</td>\n",
       "      <td>8.0</td>\n",
       "      <td>N</td>\n",
       "      <td>0</td>\n",
       "    </tr>\n",
       "    <tr>\n",
       "      <th>2901</th>\n",
       "      <td>7932</td>\n",
       "      <td>Gunsa</td>\n",
       "      <td>Shiquanhe</td>\n",
       "      <td>China</td>\n",
       "      <td>NGQ</td>\n",
       "      <td>ZUAL</td>\n",
       "      <td>32.100270</td>\n",
       "      <td>80.052778</td>\n",
       "      <td>13780.0</td>\n",
       "      <td>8.0</td>\n",
       "      <td>N</td>\n",
       "      <td>0</td>\n",
       "    </tr>\n",
       "    <tr>\n",
       "      <th>2902</th>\n",
       "      <td>7933</td>\n",
       "      <td>Magdeburg-Cochstedt</td>\n",
       "      <td>Cochstedt</td>\n",
       "      <td>Germany</td>\n",
       "      <td>CSO</td>\n",
       "      <td>EDBC</td>\n",
       "      <td>51.855833</td>\n",
       "      <td>11.418333</td>\n",
       "      <td>596.0</td>\n",
       "      <td>1.0</td>\n",
       "      <td>E</td>\n",
       "      <td>0</td>\n",
       "    </tr>\n",
       "    <tr>\n",
       "      <th>2903</th>\n",
       "      <td>7946</td>\n",
       "      <td>Tureia Airport</td>\n",
       "      <td>Tureia</td>\n",
       "      <td>French Polynesia</td>\n",
       "      <td>ZTA</td>\n",
       "      <td>NTGY</td>\n",
       "      <td>-20.789700</td>\n",
       "      <td>-138.570000</td>\n",
       "      <td>12.0</td>\n",
       "      <td>-10.0</td>\n",
       "      <td>N</td>\n",
       "      <td>0</td>\n",
       "    </tr>\n",
       "    <tr>\n",
       "      <th>2904</th>\n",
       "      <td>7976</td>\n",
       "      <td>Ukunda Airport</td>\n",
       "      <td>Ukunda</td>\n",
       "      <td>Kenya</td>\n",
       "      <td>UKA</td>\n",
       "      <td>HKUK</td>\n",
       "      <td>-4.296940</td>\n",
       "      <td>39.571400</td>\n",
       "      <td>0.0</td>\n",
       "      <td>3.0</td>\n",
       "      <td>U</td>\n",
       "      <td>0</td>\n",
       "    </tr>\n",
       "  </tbody>\n",
       "</table>\n",
       "<p>2905 rows × 12 columns</p>\n",
       "</div>"
      ],
      "text/plain": [
       "        Id                        Name          City           Country  \\\n",
       "0        1                      Goroka        Goroka  Papua New Guinea   \n",
       "1        2                      Madang        Madang  Papua New Guinea   \n",
       "2        3                 Mount Hagen   Mount Hagen  Papua New Guinea   \n",
       "3        4                      Nadzab        Nadzab  Papua New Guinea   \n",
       "4        5  Port Moresby Jacksons Intl  Port Moresby  Papua New Guinea   \n",
       "...    ...                         ...           ...               ...   \n",
       "2900  7898    Huai An Lianshui Airport       Huai An             China   \n",
       "2901  7932                       Gunsa     Shiquanhe             China   \n",
       "2902  7933         Magdeburg-Cochstedt     Cochstedt           Germany   \n",
       "2903  7946              Tureia Airport        Tureia  French Polynesia   \n",
       "2904  7976              Ukunda Airport        Ukunda             Kenya   \n",
       "\n",
       "     IATA/FAA  ICAO   Latitude   Longitude  Altitude  Timezone DST  \\\n",
       "0         GKA  AYGA  -6.081689  145.391881    5282.0      10.0   U   \n",
       "1         MAG  AYMD  -5.207083  145.788700      20.0      10.0   U   \n",
       "2         HGU  AYMH  -5.826789  144.295861    5388.0      10.0   U   \n",
       "3         LAE  AYNZ  -6.569828  146.726242     239.0      10.0   U   \n",
       "4         POM  AYPY  -9.443383  147.220050     146.0      10.0   U   \n",
       "...       ...   ...        ...         ...       ...       ...  ..   \n",
       "2900      HIA  ZSSH  33.777200  119.147800      23.0       8.0   N   \n",
       "2901      NGQ  ZUAL  32.100270   80.052778   13780.0       8.0   N   \n",
       "2902      CSO  EDBC  51.855833   11.418333     596.0       1.0   E   \n",
       "2903      ZTA  NTGY -20.789700 -138.570000      12.0     -10.0   N   \n",
       "2904      UKA  HKUK  -4.296940   39.571400       0.0       3.0   U   \n",
       "\n",
       "      Component ID  \n",
       "0                0  \n",
       "1                0  \n",
       "2                0  \n",
       "3                0  \n",
       "4                0  \n",
       "...            ...  \n",
       "2900             0  \n",
       "2901             0  \n",
       "2902             0  \n",
       "2903             0  \n",
       "2904             0  \n",
       "\n",
       "[2905 rows x 12 columns]"
      ]
     },
     "execution_count": 68,
     "metadata": {},
     "output_type": "execute_result"
    }
   ],
   "source": [
    "nodes_df = pu.csv_to_df(nodes_filepath)\n",
    "nodes_df"
   ]
  },
  {
   "cell_type": "code",
   "execution_count": 70,
   "metadata": {},
   "outputs": [
    {
     "data": {
      "text/html": [
       "<div>\n",
       "<style scoped>\n",
       "    .dataframe tbody tr th:only-of-type {\n",
       "        vertical-align: middle;\n",
       "    }\n",
       "\n",
       "    .dataframe tbody tr th {\n",
       "        vertical-align: top;\n",
       "    }\n",
       "\n",
       "    .dataframe thead th {\n",
       "        text-align: right;\n",
       "    }\n",
       "</style>\n",
       "<table border=\"1\" class=\"dataframe\">\n",
       "  <thead>\n",
       "    <tr style=\"text-align: right;\">\n",
       "      <th></th>\n",
       "      <th>Source</th>\n",
       "      <th>Target</th>\n",
       "      <th>Type</th>\n",
       "      <th>Weight</th>\n",
       "    </tr>\n",
       "  </thead>\n",
       "  <tbody>\n",
       "    <tr>\n",
       "      <th>0</th>\n",
       "      <td>1</td>\n",
       "      <td>5</td>\n",
       "      <td>Directed</td>\n",
       "      <td>1.0</td>\n",
       "    </tr>\n",
       "    <tr>\n",
       "      <th>1</th>\n",
       "      <td>2</td>\n",
       "      <td>4</td>\n",
       "      <td>Directed</td>\n",
       "      <td>1.0</td>\n",
       "    </tr>\n",
       "    <tr>\n",
       "      <th>2</th>\n",
       "      <td>2</td>\n",
       "      <td>5</td>\n",
       "      <td>Directed</td>\n",
       "      <td>1.0</td>\n",
       "    </tr>\n",
       "    <tr>\n",
       "      <th>3</th>\n",
       "      <td>2</td>\n",
       "      <td>6</td>\n",
       "      <td>Directed</td>\n",
       "      <td>2.0</td>\n",
       "    </tr>\n",
       "    <tr>\n",
       "      <th>4</th>\n",
       "      <td>2</td>\n",
       "      <td>5430</td>\n",
       "      <td>Directed</td>\n",
       "      <td>1.0</td>\n",
       "    </tr>\n",
       "    <tr>\n",
       "      <th>...</th>\n",
       "      <td>...</td>\n",
       "      <td>...</td>\n",
       "      <td>...</td>\n",
       "      <td>...</td>\n",
       "    </tr>\n",
       "    <tr>\n",
       "      <th>30437</th>\n",
       "      <td>7933</td>\n",
       "      <td>1222</td>\n",
       "      <td>Directed</td>\n",
       "      <td>1.0</td>\n",
       "    </tr>\n",
       "    <tr>\n",
       "      <th>30438</th>\n",
       "      <td>7933</td>\n",
       "      <td>1230</td>\n",
       "      <td>Directed</td>\n",
       "      <td>1.0</td>\n",
       "    </tr>\n",
       "    <tr>\n",
       "      <th>30439</th>\n",
       "      <td>7946</td>\n",
       "      <td>1979</td>\n",
       "      <td>Directed</td>\n",
       "      <td>1.0</td>\n",
       "    </tr>\n",
       "    <tr>\n",
       "      <th>30440</th>\n",
       "      <td>7976</td>\n",
       "      <td>1145</td>\n",
       "      <td>Directed</td>\n",
       "      <td>2.0</td>\n",
       "    </tr>\n",
       "    <tr>\n",
       "      <th>30441</th>\n",
       "      <td>7976</td>\n",
       "      <td>1147</td>\n",
       "      <td>Directed</td>\n",
       "      <td>1.0</td>\n",
       "    </tr>\n",
       "  </tbody>\n",
       "</table>\n",
       "<p>30442 rows × 4 columns</p>\n",
       "</div>"
      ],
      "text/plain": [
       "       Source  Target      Type  Weight\n",
       "0           1       5  Directed     1.0\n",
       "1           2       4  Directed     1.0\n",
       "2           2       5  Directed     1.0\n",
       "3           2       6  Directed     2.0\n",
       "4           2    5430  Directed     1.0\n",
       "...       ...     ...       ...     ...\n",
       "30437    7933    1222  Directed     1.0\n",
       "30438    7933    1230  Directed     1.0\n",
       "30439    7946    1979  Directed     1.0\n",
       "30440    7976    1145  Directed     2.0\n",
       "30441    7976    1147  Directed     1.0\n",
       "\n",
       "[30442 rows x 4 columns]"
      ]
     },
     "execution_count": 70,
     "metadata": {},
     "output_type": "execute_result"
    }
   ],
   "source": [
    "edges_df = pu.csv_to_df(edges_filepath)\n",
    "edges_df"
   ]
  },
  {
   "cell_type": "code",
   "execution_count": 105,
   "metadata": {},
   "outputs": [
    {
     "name": "stdout",
     "output_type": "stream",
     "text": [
      "Is graph DiGraph?: True\n",
      " Graph: # of nodes = 2905, # of edges = 30442\n"
     ]
    }
   ],
   "source": [
    "DiG = xu.edges_and_weights_to_graph(\n",
    "    edges_list = edges_df[[\"Source\",\"Target\"]].to_numpy(),\n",
    "    weights_list = edges_df[\"Weight\"].to_numpy(),\n",
    "    graph_type = \"DiGraph\"\n",
    "    \n",
    ")\n",
    "\n",
    "print(f\"Is graph DiGraph?: {xu.is_digraph(DiG)}\")\n",
    "\n",
    "#4) Add the node features to the graph\n",
    "xu.set_node_attributes_from_df(\n",
    "    DiG,\n",
    "    nodes_df,\n",
    "    index_name = \"Id\"\n",
    ")\n",
    "\n",
    "xu.print_node_edges_counts(DiG)"
   ]
  },
  {
   "cell_type": "markdown",
   "metadata": {},
   "source": [
    "### Converting the graph to an undirected graph"
   ]
  },
  {
   "cell_type": "code",
   "execution_count": 140,
   "metadata": {},
   "outputs": [
    {
     "name": "stdout",
     "output_type": "stream",
     "text": [
      "Finished relabeling nodes\n",
      "After symmmetric conversion to undirected graph\n",
      " Graph: # of nodes = 2905, # of edges = 15645\n"
     ]
    }
   ],
   "source": [
    "G = xu.undirected_sym_G_from_DiG(\n",
    "    DiG,\n",
    "    verbose = True,\n",
    ")"
   ]
  },
  {
   "cell_type": "markdown",
   "metadata": {},
   "source": [
    "## B) Plot the Airport Network"
   ]
  },
  {
   "cell_type": "code",
   "execution_count": 153,
   "metadata": {},
   "outputs": [],
   "source": [
    "import graph_statistics as gs\n",
    "import matplotlib_utils as mu"
   ]
  },
  {
   "cell_type": "code",
   "execution_count": 141,
   "metadata": {},
   "outputs": [
    {
     "data": {
      "text/plain": [
       "'\\nPurpose: To plot the network with the following characteristics\\n1) Node locations = (longitude,latitude)\\n2) Node size = eigenvector centrality (using the edge weights)\\n3) Controllable Transparency on Edges\\n\\nPseudocode: \\n1) Export longitude and latitude of nodes\\n(from node_df)\\n2) Compute the eigenvector centrality of all\\nof the nodes (accounting for the edge weights)\\n3) Plot the graph using the: \\n- node locations\\n- centralitys*scale as size\\n- edge color with alpha level\\n'"
      ]
     },
     "execution_count": 141,
     "metadata": {},
     "output_type": "execute_result"
    }
   ],
   "source": [
    "\"\"\"\n",
    "Purpose: To plot the network with the following characteristics\n",
    "1) Node locations = (longitude,latitude)\n",
    "2) Node size = eigenvector centrality (using the edge weights)\n",
    "3) Controllable Transparency on Edges\n",
    "\n",
    "Pseudocode: \n",
    "1) Export longitude and latitude of nodes\n",
    "(from node_df)\n",
    "2) Compute the eigenvector centrality of all\n",
    "of the nodes (accounting for the edge weights)\n",
    "3) Plot the graph using the: \n",
    "- node locations\n",
    "- centralitys*scale as size\n",
    "- edge color with alpha level\n",
    "\"\"\""
   ]
  },
  {
   "cell_type": "code",
   "execution_count": 143,
   "metadata": {},
   "outputs": [],
   "source": [
    "curr_node_df = xu.node_df(G)\n",
    "node_ids = curr_node_df[xu.node_id_default].to_numpy()\n",
    "node_pos = curr_node_df[[\"Latitude\",\"Longitude\"]].to_numpy()"
   ]
  },
  {
   "cell_type": "code",
   "execution_count": 152,
   "metadata": {},
   "outputs": [
    {
     "name": "stdout",
     "output_type": "stream",
     "text": [
      "Norm of the eigenvector: 1.0000\n",
      "Top eigenvector values: [0.17852923 0.16991023 0.16926958]\n"
     ]
    }
   ],
   "source": [
    "eig_centrality = gs.eigenvector_centrality(\n",
    "    G,\n",
    "    weight = \"weight\"\n",
    ")\n",
    "eig_vec = np.array(list(eig_centrality.values()))\n",
    "print(f\"Norm of the eigenvector: {np.linalg.norm(eig_vec):.4f}\")\n",
    "print(f\"Top eigenvector values: {np.flip(np.sort(eig_vec))[:3]}\")"
   ]
  },
  {
   "cell_type": "code",
   "execution_count": 155,
   "metadata": {},
   "outputs": [
    {
     "data": {
      "text/plain": [
       "array([0. , 0. , 0. , 0.5])"
      ]
     },
     "execution_count": 155,
     "metadata": {},
     "output_type": "execute_result"
    }
   ],
   "source": [
    "edge_color = \"black\"\n",
    "alpha = 0.5\n",
    "edge_color = mu.color_to_rgba(edge_color,alpha)\n",
    "edge_color"
   ]
  },
  {
   "cell_type": "markdown",
   "metadata": {},
   "source": [
    "### plotting the map"
   ]
  },
  {
   "cell_type": "code",
   "execution_count": 157,
   "metadata": {},
   "outputs": [],
   "source": [
    "import networkx as nx\n",
    "nx.draw_networkx?"
   ]
  },
  {
   "cell_type": "code",
   "execution_count": null,
   "metadata": {},
   "outputs": [],
   "source": [
    "nx.spring_layout(G)"
   ]
  },
  {
   "cell_type": "code",
   "execution_count": null,
   "metadata": {},
   "outputs": [],
   "source": []
  }
 ],
 "metadata": {
  "kernelspec": {
   "display_name": "Python 3",
   "language": "python",
   "name": "python3"
  },
  "language_info": {
   "codemirror_mode": {
    "name": "ipython",
    "version": 3
   },
   "file_extension": ".py",
   "mimetype": "text/x-python",
   "name": "python",
   "nbconvert_exporter": "python",
   "pygments_lexer": "ipython3",
   "version": "3.6.9"
  }
 },
 "nbformat": 4,
 "nbformat_minor": 4
}
