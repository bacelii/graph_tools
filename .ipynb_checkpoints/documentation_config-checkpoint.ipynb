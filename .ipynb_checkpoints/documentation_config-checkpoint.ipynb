{
 "cells": [
  {
   "cell_type": "code",
   "execution_count": 2,
   "metadata": {},
   "outputs": [],
   "source": [
    "%load_ext autoreload\n",
    "%autoreload 2"
   ]
  },
  {
   "cell_type": "code",
   "execution_count": 3,
   "metadata": {},
   "outputs": [
    {
     "data": {
      "text/plain": [
       "'\\nPurpose: To apply the documentation pipeline to package that will\\n\\n1) Clean module files (fix docstring, relative paths, ect)\\n2) Create the requirements file\\n3) Create the setup.py file\\n4) Verify pip install works\\n5) setup the sphinx documentation folders and push to github pages of repo\\n\\n\\n'"
      ]
     },
     "execution_count": 3,
     "metadata": {},
     "output_type": "execute_result"
    }
   ],
   "source": [
    "\"\"\"\n",
    "Purpose: To apply the documentation pipeline to package that will\n",
    "\n",
    "1) Clean module files (fix docstring, relative paths, ect)\n",
    "2) Create the requirements file\n",
    "3) Create the setup.py file\n",
    "4) Verify pip install works\n",
    "5) setup the sphinx documentation folders and push to github pages of repo\n",
    "\n",
    "\n",
    "\"\"\""
   ]
  },
  {
   "cell_type": "code",
   "execution_count": 4,
   "metadata": {},
   "outputs": [],
   "source": [
    "import python_tools"
   ]
  },
  {
   "cell_type": "code",
   "execution_count": 7,
   "metadata": {},
   "outputs": [],
   "source": [
    "directory = \"graph_tools\""
   ]
  },
  {
   "cell_type": "markdown",
   "metadata": {},
   "source": [
    "# Cleaning the modules"
   ]
  },
  {
   "cell_type": "code",
   "execution_count": null,
   "metadata": {},
   "outputs": [],
   "source": [
    "from python_tools import package_utils as pku\n",
    "\n",
    "pku.clean_package_syntax(\n",
    "    directory = [\n",
    "        f\"./{directory}/\",\n",
    "    ],\n",
    "    create_init_if_not_exist = True,\n",
    "    overwrite = True,\n",
    ")\n",
    "\n",
    "\n"
   ]
  },
  {
   "cell_type": "markdown",
   "metadata": {},
   "source": [
    "# Requirmenets"
   ]
  },
  {
   "cell_type": "code",
   "execution_count": 5,
   "metadata": {},
   "outputs": [
    {
     "data": {
      "text/plain": [
       "['ipython', 'ipython_genutils']"
      ]
     },
     "execution_count": 5,
     "metadata": {},
     "output_type": "execute_result"
    }
   ],
   "source": [
    "from python_tools import requirement_utils as requ"
   ]
  },
  {
   "cell_type": "code",
   "execution_count": 6,
   "metadata": {},
   "outputs": [
    {
     "name": "stderr",
     "output_type": "stream",
     "text": [
      "  0%|          | 0/1 [00:00<?, ?it/s]"
     ]
    },
    {
     "name": "stdout",
     "output_type": "stream",
     "text": [
      "command = pipreqs --encoding=utf8 --force graph_tools --ignore=graph_tools/.ipynb_checkpoints,graph_tools/old_modules,graph_tools/__pycache__ --mode gt --savepath /graph_tools/requirements.txt\n"
     ]
    },
    {
     "name": "stderr",
     "output_type": "stream",
     "text": [
      "100%|██████████| 1/1 [00:01<00:00,  1.12s/it]"
     ]
    },
    {
     "name": "stdout",
     "output_type": "stream",
     "text": [
      "Package Diff: ['collections' 'itertools' 'random' 'time']\n"
     ]
    },
    {
     "name": "stderr",
     "output_type": "stream",
     "text": [
      "\n"
     ]
    },
    {
     "data": {
      "text/plain": [
       "{'graph_tools': {'matplotlib': '3.3.4',\n",
       "  'ndlib': '5.1.1',\n",
       "  'netsci': '0.0.3',\n",
       "  'networkx': '2.5',\n",
       "  'numpy': '1.19.5',\n",
       "  'pandas': '1.1.5',\n",
       "  'powerlaw': '1.5',\n",
       "  'python_tools': '0.0.1',\n",
       "  'scipy': '1.5.4',\n",
       "  'seaborn': '0.11.2',\n",
       "  'tqdm': '4.62.2',\n",
       "  'ipython': None,\n",
       "  'ipython_genutils': None}}"
      ]
     },
     "execution_count": 6,
     "metadata": {},
     "output_type": "execute_result"
    }
   ],
   "source": [
    "# Generate the requirements package\n",
    "from python_tools import requirement_utils as requ\n",
    "\n",
    "directory = \"graph_tools\"\n",
    "\n",
    "req_dict = requ.requirements_dict_from_directories(\n",
    "    directories=(directory,),\n",
    "    verbose = True,\n",
    ")\n",
    "req_dict"
   ]
  },
  {
   "cell_type": "markdown",
   "metadata": {},
   "source": [
    "# Do the setup.py"
   ]
  },
  {
   "cell_type": "code",
   "execution_count": 8,
   "metadata": {},
   "outputs": [
    {
     "data": {
      "text/plain": [
       "'def get_install_requires(filepath=None):\\n    if filepath is None:\\n        filepath = \"./\"\\n    \"\"\"Returns requirements.txt parsed to a list\"\"\"\\n    fname = Path(filepath).parent / \\'requirements.txt\\'\\n    targets = []\\n    if fname.exists():\\n        with open(fname, \\'r\\') as f:\\n            targets = f.read().splitlines()\\n    return targets\\n\\ndef get_links():\\n    return [\\n        \"git+https://github.com/bacelii/machine_learning_tools.git\"\\n    ]\\n\\n\\nfrom setuptools import setup, find_packages\\nfrom pathlib import Path\\n\\nsetup(\\n    name=\\'graph_tools\\', # the name of the package, which can be different than the folder when using pip instal\\n    version=\\'1.0.0\\',\\n    description=\\'\\',\\n    author=\\'Brendan Celii\\',\\n    author_email=\\'brendanacelii\\',\\n    packages=find_packages(),  #teslls what packages to be included for the install\\n    install_requires=get_install_requires(), #external packages as dependencies\\n    dependency_links = get_links(),\\n    # if wanted to install with the extra requirements use pip install -e \".[interactive]\"\\n    extras_require={\\n        #\\'interactive\\': [\\'matplotlib>=2.2.0\\', \\'jupyter\\'],\\n    },\\n    \\n    # if have a python script that wants to be run from the command line\\n    entry_points={\\n        #\\'console_scripts\\': [\\'pipeline_download=Applications.Eleox_Data_Fetch.Eleox_Data_Fetcher_vp1:main\\']\\n    },\\n    scripts=[], \\n    \\n)\\n\\n'"
      ]
     },
     "execution_count": 8,
     "metadata": {},
     "output_type": "execute_result"
    }
   ],
   "source": [
    "from python_tools import setup_py_utils as setu\n",
    "setu.setup_py_str_generator(\n",
    "    directory,\n",
    "    output_path=\"./setup.py\"\n",
    ")"
   ]
  },
  {
   "cell_type": "code",
   "execution_count": 16,
   "metadata": {},
   "outputs": [
    {
     "name": "stdout",
     "output_type": "stream",
     "text": [
      "/usr/lib/python3/dist-packages/secretstorage/dhcrypto.py:15: CryptographyDeprecationWarning: int_from_bytes is deprecated, use int.from_bytes instead\n",
      "  from cryptography.utils import int_from_bytes\n",
      "/usr/lib/python3/dist-packages/secretstorage/util.py:19: CryptographyDeprecationWarning: int_from_bytes is deprecated, use int.from_bytes instead\n",
      "  from cryptography.utils import int_from_bytes\n",
      "Obtaining file:///graph_tools\n",
      "  Preparing metadata (setup.py) ... \u001b[?25ldone\n",
      "\u001b[?25hRequirement already satisfied: matplotlib>=3.3.4 in /usr/local/lib/python3.6/dist-packages (from graph-tools==1.0.0) (3.3.4)\n",
      "Requirement already satisfied: ndlib>=5.1.1 in /usr/local/lib/python3.6/dist-packages (from graph-tools==1.0.0) (5.1.1)\n",
      "Requirement already satisfied: netsci>=0.0.3 in /usr/local/lib/python3.6/dist-packages (from graph-tools==1.0.0) (0.0.3)\n",
      "Requirement already satisfied: networkx>=2.5 in /usr/local/lib/python3.6/dist-packages (from graph-tools==1.0.0) (2.5)\n",
      "Requirement already satisfied: numpy>=1.19.5 in /usr/local/lib/python3.6/dist-packages (from graph-tools==1.0.0) (1.19.5)\n",
      "Requirement already satisfied: pandas>=1.1.5 in /usr/local/lib/python3.6/dist-packages (from graph-tools==1.0.0) (1.1.5)\n",
      "Requirement already satisfied: powerlaw>=1.5 in /usr/local/lib/python3.6/dist-packages (from graph-tools==1.0.0) (1.5)\n",
      "Requirement already satisfied: python_tools>=0.0.1 in /python_tools (from graph-tools==1.0.0) (1.0)\n",
      "Requirement already satisfied: scipy>=1.5.4 in /usr/local/lib/python3.6/dist-packages (from graph-tools==1.0.0) (1.5.4)\n",
      "Requirement already satisfied: seaborn>=0.11.2 in /usr/local/lib/python3.6/dist-packages (from graph-tools==1.0.0) (0.11.2)\n",
      "Requirement already satisfied: tqdm>=4.62.2 in /usr/local/lib/python3.6/dist-packages (from graph-tools==1.0.0) (4.62.2)\n",
      "Requirement already satisfied: ipython in /usr/local/lib/python3.6/dist-packages (from graph-tools==1.0.0) (7.16.1)\n",
      "Requirement already satisfied: ipython_genutils in /usr/local/lib/python3.6/dist-packages (from graph-tools==1.0.0) (0.2.0)\n",
      "Requirement already satisfied: kiwisolver>=1.0.1 in /usr/local/lib/python3.6/dist-packages (from matplotlib>=3.3.4->graph-tools==1.0.0) (1.3.1)\n",
      "Requirement already satisfied: pillow>=6.2.0 in /usr/local/lib/python3.6/dist-packages (from matplotlib>=3.3.4->graph-tools==1.0.0) (8.3.1)\n",
      "Requirement already satisfied: pyparsing!=2.0.4,!=2.1.2,!=2.1.6,>=2.0.3 in /usr/local/lib/python3.6/dist-packages (from matplotlib>=3.3.4->graph-tools==1.0.0) (2.4.7)\n",
      "Requirement already satisfied: python-dateutil>=2.1 in /usr/local/lib/python3.6/dist-packages (from matplotlib>=3.3.4->graph-tools==1.0.0) (2.8.2)\n",
      "Requirement already satisfied: cycler>=0.10 in /usr/local/lib/python3.6/dist-packages (from matplotlib>=3.3.4->graph-tools==1.0.0) (0.10.0)\n",
      "Requirement already satisfied: netdispatch in /usr/local/lib/python3.6/dist-packages (from ndlib>=5.1.1->graph-tools==1.0.0) (0.1.0)\n",
      "Requirement already satisfied: future in /usr/local/lib/python3.6/dist-packages (from ndlib>=5.1.1->graph-tools==1.0.0) (0.18.3)\n",
      "Requirement already satisfied: dynetx in /usr/local/lib/python3.6/dist-packages (from ndlib>=5.1.1->graph-tools==1.0.0) (0.3.1)\n",
      "Requirement already satisfied: python-igraph in /usr/lib/python3/dist-packages (from ndlib>=5.1.1->graph-tools==1.0.0) (0.7.1.post6)\n",
      "Requirement already satisfied: bokeh in /usr/local/lib/python3.6/dist-packages (from ndlib>=5.1.1->graph-tools==1.0.0) (2.3.3)\n",
      "Requirement already satisfied: scikit-learn in /usr/local/lib/python3.6/dist-packages (from netsci>=0.0.3->graph-tools==1.0.0) (0.23.1)\n",
      "Requirement already satisfied: decorator>=4.3.0 in /usr/local/lib/python3.6/dist-packages (from networkx>=2.5->graph-tools==1.0.0) (4.4.2)\n",
      "Requirement already satisfied: pytz>=2017.2 in /usr/local/lib/python3.6/dist-packages (from pandas>=1.1.5->graph-tools==1.0.0) (2021.1)\n",
      "Requirement already satisfied: mpmath in /usr/local/lib/python3.6/dist-packages (from powerlaw>=1.5->graph-tools==1.0.0) (1.3.0)\n",
      "Requirement already satisfied: colour>=0.1.5 in /usr/local/lib/python3.6/dist-packages (from python_tools>=0.0.1->graph-tools==1.0.0) (0.1.5)\n",
      "Requirement already satisfied: datajoint>=0.12.9 in /usr/local/lib/python3.6/dist-packages (from python_tools>=0.0.1->graph-tools==1.0.0) (0.12.9)\n",
      "Requirement already satisfied: ipyvolume>=0.5.2 in /usr/local/lib/python3.6/dist-packages (from python_tools>=0.0.1->graph-tools==1.0.0) (0.5.2)\n",
      "Requirement already satisfied: ipywebrtc>=0.5.0 in /usr/local/lib/python3.6/dist-packages (from python_tools>=0.0.1->graph-tools==1.0.0) (0.5.0)\n",
      "Requirement already satisfied: ipywidgets>=7.5.1 in /usr/local/lib/python3.6/dist-packages (from python_tools>=0.0.1->graph-tools==1.0.0) (7.5.1)\n",
      "Requirement already satisfied: modin[all] in /usr/local/lib/python3.6/dist-packages (from python_tools>=0.0.1->graph-tools==1.0.0) (0.8.3.post4)\n",
      "Requirement already satisfied: pandasql>=0.7.3 in /usr/local/lib/python3.6/dist-packages (from python_tools>=0.0.1->graph-tools==1.0.0) (0.7.3)\n",
      "Requirement already satisfied: pykdtree>=1.3.1 in /usr/local/lib/python3.6/dist-packages (from python_tools>=0.0.1->graph-tools==1.0.0) (1.3.1)\n",
      "Requirement already satisfied: Shapely>=1.7.0 in /usr/local/lib/python3.6/dist-packages (from python_tools>=0.0.1->graph-tools==1.0.0) (1.7.0)\n",
      "Requirement already satisfied: six>=1.11.0 in /usr/local/lib/python3.6/dist-packages (from python_tools>=0.0.1->graph-tools==1.0.0) (1.15.0)\n",
      "Requirement already satisfied: trimesh>=3.9.0 in /usr/local/lib/python3.6/dist-packages (from python_tools>=0.0.1->graph-tools==1.0.0) (3.9.0)\n",
      "Requirement already satisfied: webcolors>=1.11.1 in /usr/local/lib/python3.6/dist-packages (from python_tools>=0.0.1->graph-tools==1.0.0) (1.11.1)\n",
      "Requirement already satisfied: pickleshare in /usr/local/lib/python3.6/dist-packages (from ipython->graph-tools==1.0.0) (0.7.5)\n",
      "Requirement already satisfied: setuptools>=18.5 in /usr/local/lib/python3.6/dist-packages (from ipython->graph-tools==1.0.0) (59.6.0)\n",
      "Requirement already satisfied: prompt-toolkit!=3.0.0,!=3.0.1,<3.1.0,>=2.0.0 in /usr/local/lib/python3.6/dist-packages (from ipython->graph-tools==1.0.0) (2.0.10)\n",
      "Requirement already satisfied: backcall in /usr/local/lib/python3.6/dist-packages (from ipython->graph-tools==1.0.0) (0.2.0)\n",
      "Requirement already satisfied: pygments in /usr/local/lib/python3.6/dist-packages (from ipython->graph-tools==1.0.0) (2.14.0)\n",
      "Requirement already satisfied: jedi>=0.10 in /usr/local/lib/python3.6/dist-packages (from ipython->graph-tools==1.0.0) (0.17.2)\n",
      "Requirement already satisfied: pexpect in /usr/local/lib/python3.6/dist-packages (from ipython->graph-tools==1.0.0) (4.8.0)\n",
      "Requirement already satisfied: traitlets>=4.2 in /usr/local/lib/python3.6/dist-packages (from ipython->graph-tools==1.0.0) (4.3.3)\n",
      "Requirement already satisfied: pymysql>=0.7.2 in /usr/local/lib/python3.6/dist-packages (from datajoint>=0.12.9->python_tools>=0.0.1->graph-tools==1.0.0) (1.0.2)\n",
      "Requirement already satisfied: minio>=7.0.0 in /usr/local/lib/python3.6/dist-packages (from datajoint>=0.12.9->python_tools>=0.0.1->graph-tools==1.0.0) (7.1.0)\n",
      "Requirement already satisfied: pydot in /usr/local/lib/python3.6/dist-packages (from datajoint>=0.12.9->python_tools>=0.0.1->graph-tools==1.0.0) (1.4.2)\n",
      "Requirement already satisfied: requests in /usr/local/lib/python3.6/dist-packages (from ipyvolume>=0.5.2->python_tools>=0.0.1->graph-tools==1.0.0) (2.25.1)\n",
      "Requirement already satisfied: traittypes in /usr/local/lib/python3.6/dist-packages (from ipyvolume>=0.5.2->python_tools>=0.0.1->graph-tools==1.0.0) (0.2.1)\n",
      "Requirement already satisfied: pythreejs>=1.0.0 in /usr/local/lib/python3.6/dist-packages (from ipyvolume>=0.5.2->python_tools>=0.0.1->graph-tools==1.0.0) (2.2.1)\n",
      "Requirement already satisfied: widgetsnbextension~=3.5.0 in /usr/local/lib/python3.6/dist-packages (from ipywidgets>=7.5.1->python_tools>=0.0.1->graph-tools==1.0.0) (3.5.1)\n",
      "Requirement already satisfied: nbformat>=4.2.0 in /usr/local/lib/python3.6/dist-packages (from ipywidgets>=7.5.1->python_tools>=0.0.1->graph-tools==1.0.0) (5.0.8)\n",
      "Requirement already satisfied: ipykernel>=4.5.1 in /usr/local/lib/python3.6/dist-packages (from ipywidgets>=7.5.1->python_tools>=0.0.1->graph-tools==1.0.0) (5.3.4)\n",
      "Requirement already satisfied: parso<0.8.0,>=0.7.0 in /usr/local/lib/python3.6/dist-packages (from jedi>=0.10->ipython->graph-tools==1.0.0) (0.7.1)\n",
      "Requirement already satisfied: sqlalchemy in /usr/local/lib/python3.6/dist-packages (from pandasql>=0.7.3->python_tools>=0.0.1->graph-tools==1.0.0) (1.3.20)\n",
      "Requirement already satisfied: wcwidth in /usr/local/lib/python3.6/dist-packages (from prompt-toolkit!=3.0.0,!=3.0.1,<3.1.0,>=2.0.0->ipython->graph-tools==1.0.0) (0.2.5)\n",
      "Requirement already satisfied: threadpoolctl>=2.0.0 in /usr/local/lib/python3.6/dist-packages (from scikit-learn->netsci>=0.0.3->graph-tools==1.0.0) (2.1.0)\n",
      "Requirement already satisfied: joblib>=0.11 in /usr/local/lib/python3.6/dist-packages (from scikit-learn->netsci>=0.0.3->graph-tools==1.0.0) (0.16.0)\n",
      "Requirement already satisfied: typing-extensions>=3.7.4 in /usr/local/lib/python3.6/dist-packages (from bokeh->ndlib>=5.1.1->graph-tools==1.0.0) (3.7.4.3)\n",
      "Requirement already satisfied: packaging>=16.8 in /usr/local/lib/python3.6/dist-packages (from bokeh->ndlib>=5.1.1->graph-tools==1.0.0) (21.0)\n",
      "Requirement already satisfied: PyYAML>=3.10 in /usr/local/lib/python3.6/dist-packages (from bokeh->ndlib>=5.1.1->graph-tools==1.0.0) (5.3.1)\n",
      "Requirement already satisfied: Jinja2>=2.9 in /usr/local/lib/python3.6/dist-packages (from bokeh->ndlib>=5.1.1->graph-tools==1.0.0) (3.0.3)\n",
      "Requirement already satisfied: tornado>=5.1 in /usr/local/lib/python3.6/dist-packages (from bokeh->ndlib>=5.1.1->graph-tools==1.0.0) (6.1)\n",
      "Requirement already satisfied: pyarrow==1.0 in /usr/local/lib/python3.6/dist-packages (from modin[all]->python_tools>=0.0.1->graph-tools==1.0.0) (1.0.0)\n",
      "Requirement already satisfied: dask<=2.19.0,>=2.12.0 in /usr/local/lib/python3.6/dist-packages (from modin[all]->python_tools>=0.0.1->graph-tools==1.0.0) (2.19.0)\n",
      "Requirement already satisfied: boto3==1.4.8 in /usr/local/lib/python3.6/dist-packages (from modin[all]->python_tools>=0.0.1->graph-tools==1.0.0) (1.4.8)\n",
      "Requirement already satisfied: cloudpickle==1.4.1 in /usr/local/lib/python3.6/dist-packages (from modin[all]->python_tools>=0.0.1->graph-tools==1.0.0) (1.4.1)\n",
      "Requirement already satisfied: distributed<=2.19.0,>=2.12.0 in /usr/local/lib/python3.6/dist-packages (from modin[all]->python_tools>=0.0.1->graph-tools==1.0.0) (2.19.0)\n",
      "Requirement already satisfied: rpyc==4.1.5 in /usr/local/lib/python3.6/dist-packages (from modin[all]->python_tools>=0.0.1->graph-tools==1.0.0) (4.1.5)\n",
      "Requirement already satisfied: ray>=1.0.0 in /usr/local/lib/python3.6/dist-packages (from modin[all]->python_tools>=0.0.1->graph-tools==1.0.0) (2.4.0)\n",
      "Requirement already satisfied: s3transfer<0.2.0,>=0.1.10 in /usr/local/lib/python3.6/dist-packages (from boto3==1.4.8->modin[all]->python_tools>=0.0.1->graph-tools==1.0.0) (0.1.13)\n",
      "Requirement already satisfied: jmespath<1.0.0,>=0.7.1 in /usr/local/lib/python3.6/dist-packages (from boto3==1.4.8->modin[all]->python_tools>=0.0.1->graph-tools==1.0.0) (0.10.0)\n",
      "Requirement already satisfied: botocore<1.9.0,>=1.8.0 in /usr/local/lib/python3.6/dist-packages (from boto3==1.4.8->modin[all]->python_tools>=0.0.1->graph-tools==1.0.0) (1.8.50)\n",
      "Requirement already satisfied: plumbum in /usr/local/lib/python3.6/dist-packages (from rpyc==4.1.5->modin[all]->python_tools>=0.0.1->graph-tools==1.0.0) (1.8.2)\n",
      "Requirement already satisfied: ptyprocess>=0.5 in /usr/local/lib/python3.6/dist-packages (from pexpect->ipython->graph-tools==1.0.0) (0.7.0)\n",
      "Requirement already satisfied: toolz>=0.8.2 in /usr/local/lib/python3.6/dist-packages (from distributed<=2.19.0,>=2.12.0->modin[all]->python_tools>=0.0.1->graph-tools==1.0.0) (0.11.1)\n",
      "Requirement already satisfied: contextvars in /usr/local/lib/python3.6/dist-packages (from distributed<=2.19.0,>=2.12.0->modin[all]->python_tools>=0.0.1->graph-tools==1.0.0) (2.4)\n",
      "Requirement already satisfied: tblib>=1.6.0 in /usr/local/lib/python3.6/dist-packages (from distributed<=2.19.0,>=2.12.0->modin[all]->python_tools>=0.0.1->graph-tools==1.0.0) (1.7.0)\n",
      "Requirement already satisfied: zict>=0.1.3 in /usr/local/lib/python3.6/dist-packages (from distributed<=2.19.0,>=2.12.0->modin[all]->python_tools>=0.0.1->graph-tools==1.0.0) (2.1.0)\n",
      "Requirement already satisfied: sortedcontainers!=2.0.0,!=2.0.1 in /usr/local/lib/python3.6/dist-packages (from distributed<=2.19.0,>=2.12.0->modin[all]->python_tools>=0.0.1->graph-tools==1.0.0) (2.4.0)\n",
      "Requirement already satisfied: psutil>=5.0 in /usr/local/lib/python3.6/dist-packages (from distributed<=2.19.0,>=2.12.0->modin[all]->python_tools>=0.0.1->graph-tools==1.0.0) (5.9.5)\n",
      "Requirement already satisfied: msgpack>=0.6.0 in /usr/local/lib/python3.6/dist-packages (from distributed<=2.19.0,>=2.12.0->modin[all]->python_tools>=0.0.1->graph-tools==1.0.0) (1.0.5)\n",
      "Requirement already satisfied: click>=6.6 in /usr/local/lib/python3.6/dist-packages (from distributed<=2.19.0,>=2.12.0->modin[all]->python_tools>=0.0.1->graph-tools==1.0.0) (8.0.1)\n",
      "Requirement already satisfied: jupyter-client in /usr/local/lib/python3.6/dist-packages (from ipykernel>=4.5.1->ipywidgets>=7.5.1->python_tools>=0.0.1->graph-tools==1.0.0) (6.1.7)\n",
      "Requirement already satisfied: MarkupSafe>=2.0 in /usr/local/lib/python3.6/dist-packages (from Jinja2>=2.9->bokeh->ndlib>=5.1.1->graph-tools==1.0.0) (2.0.1)\n",
      "Requirement already satisfied: urllib3 in /usr/local/lib/python3.6/dist-packages (from minio>=7.0.0->datajoint>=0.12.9->python_tools>=0.0.1->graph-tools==1.0.0) (1.26.6)\n",
      "Requirement already satisfied: certifi in /usr/local/lib/python3.6/dist-packages (from minio>=7.0.0->datajoint>=0.12.9->python_tools>=0.0.1->graph-tools==1.0.0) (2021.5.30)\n",
      "Requirement already satisfied: jupyter-core in /usr/local/lib/python3.6/dist-packages (from nbformat>=4.2.0->ipywidgets>=7.5.1->python_tools>=0.0.1->graph-tools==1.0.0) (4.6.3)\n",
      "Requirement already satisfied: jsonschema!=2.5.0,>=2.4 in /usr/local/lib/python3.6/dist-packages (from nbformat>=4.2.0->ipywidgets>=7.5.1->python_tools>=0.0.1->graph-tools==1.0.0) (3.2.0)\n",
      "Requirement already satisfied: ipydatawidgets>=1.1.1 in /usr/local/lib/python3.6/dist-packages (from pythreejs>=1.0.0->ipyvolume>=0.5.2->python_tools>=0.0.1->graph-tools==1.0.0) (4.1.0)\n",
      "Requirement already satisfied: frozenlist in /usr/local/lib/python3.6/dist-packages (from ray>=1.0.0->modin[all]->python_tools>=0.0.1->graph-tools==1.0.0) (1.2.0)\n",
      "Requirement already satisfied: dataclasses in /usr/local/lib/python3.6/dist-packages (from ray>=1.0.0->modin[all]->python_tools>=0.0.1->graph-tools==1.0.0) (0.8)\n",
      "Requirement already satisfied: grpcio<=1.51.3,>=1.32.0 in /usr/local/lib/python3.6/dist-packages (from ray>=1.0.0->modin[all]->python_tools>=0.0.1->graph-tools==1.0.0) (1.48.2)\n",
      "Requirement already satisfied: attrs in /usr/local/lib/python3.6/dist-packages (from ray>=1.0.0->modin[all]->python_tools>=0.0.1->graph-tools==1.0.0) (21.2.0)\n",
      "Requirement already satisfied: aiosignal in /usr/local/lib/python3.6/dist-packages (from ray>=1.0.0->modin[all]->python_tools>=0.0.1->graph-tools==1.0.0) (1.2.0)\n",
      "Requirement already satisfied: filelock in /usr/local/lib/python3.6/dist-packages (from ray>=1.0.0->modin[all]->python_tools>=0.0.1->graph-tools==1.0.0) (3.4.1)\n",
      "Requirement already satisfied: virtualenv<20.21.1,>=20.0.24 in /usr/local/lib/python3.6/dist-packages (from ray>=1.0.0->modin[all]->python_tools>=0.0.1->graph-tools==1.0.0) (20.17.1)\n",
      "Requirement already satisfied: protobuf!=3.19.5,>=3.15.3 in /usr/local/lib/python3.6/dist-packages (from ray>=1.0.0->modin[all]->python_tools>=0.0.1->graph-tools==1.0.0) (3.17.3)\n",
      "Requirement already satisfied: notebook>=4.4.1 in /usr/local/lib/python3.6/dist-packages (from widgetsnbextension~=3.5.0->ipywidgets>=7.5.1->python_tools>=0.0.1->graph-tools==1.0.0) (6.1.5)\n",
      "Requirement already satisfied: idna<3,>=2.5 in /usr/local/lib/python3.6/dist-packages (from requests->ipyvolume>=0.5.2->python_tools>=0.0.1->graph-tools==1.0.0) (2.10)\n",
      "Requirement already satisfied: chardet<5,>=3.0.2 in /usr/local/lib/python3.6/dist-packages (from requests->ipyvolume>=0.5.2->python_tools>=0.0.1->graph-tools==1.0.0) (4.0.0)\n",
      "Requirement already satisfied: docutils>=0.10 in /usr/local/lib/python3.6/dist-packages (from botocore<1.9.0,>=1.8.0->boto3==1.4.8->modin[all]->python_tools>=0.0.1->graph-tools==1.0.0) (0.15.2)\n",
      "Requirement already satisfied: importlib-metadata in /usr/local/lib/python3.6/dist-packages (from click>=6.6->distributed<=2.19.0,>=2.12.0->modin[all]->python_tools>=0.0.1->graph-tools==1.0.0) (4.8.3)\n",
      "Requirement already satisfied: pyrsistent>=0.14.0 in /usr/local/lib/python3.6/dist-packages (from jsonschema!=2.5.0,>=2.4->nbformat>=4.2.0->ipywidgets>=7.5.1->python_tools>=0.0.1->graph-tools==1.0.0) (0.18.0)\n",
      "Requirement already satisfied: pyzmq>=17 in /usr/local/lib/python3.6/dist-packages (from notebook>=4.4.1->widgetsnbextension~=3.5.0->ipywidgets>=7.5.1->python_tools>=0.0.1->graph-tools==1.0.0) (20.0.0)\n",
      "Requirement already satisfied: Send2Trash in /usr/local/lib/python3.6/dist-packages (from notebook>=4.4.1->widgetsnbextension~=3.5.0->ipywidgets>=7.5.1->python_tools>=0.0.1->graph-tools==1.0.0) (1.5.0)\n",
      "Requirement already satisfied: terminado>=0.8.3 in /usr/local/lib/python3.6/dist-packages (from notebook>=4.4.1->widgetsnbextension~=3.5.0->ipywidgets>=7.5.1->python_tools>=0.0.1->graph-tools==1.0.0) (0.9.1)\n",
      "Requirement already satisfied: prometheus-client in /usr/local/lib/python3.6/dist-packages (from notebook>=4.4.1->widgetsnbextension~=3.5.0->ipywidgets>=7.5.1->python_tools>=0.0.1->graph-tools==1.0.0) (0.8.0)\n",
      "Requirement already satisfied: argon2-cffi in /usr/local/lib/python3.6/dist-packages (from notebook>=4.4.1->widgetsnbextension~=3.5.0->ipywidgets>=7.5.1->python_tools>=0.0.1->graph-tools==1.0.0) (20.1.0)\n",
      "Requirement already satisfied: nbconvert in /usr/local/lib/python3.6/dist-packages (from notebook>=4.4.1->widgetsnbextension~=3.5.0->ipywidgets>=7.5.1->python_tools>=0.0.1->graph-tools==1.0.0) (6.0.7)\n",
      "Requirement already satisfied: importlib-resources>=5.4 in /usr/local/lib/python3.6/dist-packages (from virtualenv<20.21.1,>=20.0.24->ray>=1.0.0->modin[all]->python_tools>=0.0.1->graph-tools==1.0.0) (5.4.0)\n",
      "Requirement already satisfied: platformdirs<3,>=2.4 in /usr/local/lib/python3.6/dist-packages (from virtualenv<20.21.1,>=20.0.24->ray>=1.0.0->modin[all]->python_tools>=0.0.1->graph-tools==1.0.0) (2.4.0)\n",
      "Requirement already satisfied: distlib<1,>=0.3.6 in /usr/local/lib/python3.6/dist-packages (from virtualenv<20.21.1,>=20.0.24->ray>=1.0.0->modin[all]->python_tools>=0.0.1->graph-tools==1.0.0) (0.3.6)\n",
      "Requirement already satisfied: heapdict in /usr/local/lib/python3.6/dist-packages (from zict>=0.1.3->distributed<=2.19.0,>=2.12.0->modin[all]->python_tools>=0.0.1->graph-tools==1.0.0) (1.0.1)\n",
      "Requirement already satisfied: immutables>=0.9 in /usr/local/lib/python3.6/dist-packages (from contextvars->distributed<=2.19.0,>=2.12.0->modin[all]->python_tools>=0.0.1->graph-tools==1.0.0) (0.19)\n",
      "Requirement already satisfied: zipp>=0.5 in /usr/local/lib/python3.6/dist-packages (from importlib-metadata->click>=6.6->distributed<=2.19.0,>=2.12.0->modin[all]->python_tools>=0.0.1->graph-tools==1.0.0) (3.5.0)\n",
      "Requirement already satisfied: cffi>=1.0.0 in /usr/local/lib/python3.6/dist-packages (from argon2-cffi->notebook>=4.4.1->widgetsnbextension~=3.5.0->ipywidgets>=7.5.1->python_tools>=0.0.1->graph-tools==1.0.0) (1.14.5)\n",
      "Requirement already satisfied: testpath in /usr/local/lib/python3.6/dist-packages (from nbconvert->notebook>=4.4.1->widgetsnbextension~=3.5.0->ipywidgets>=7.5.1->python_tools>=0.0.1->graph-tools==1.0.0) (0.4.4)\n",
      "Requirement already satisfied: bleach in /usr/local/lib/python3.6/dist-packages (from nbconvert->notebook>=4.4.1->widgetsnbextension~=3.5.0->ipywidgets>=7.5.1->python_tools>=0.0.1->graph-tools==1.0.0) (3.2.1)\n",
      "Requirement already satisfied: nbclient<0.6.0,>=0.5.0 in /usr/local/lib/python3.6/dist-packages (from nbconvert->notebook>=4.4.1->widgetsnbextension~=3.5.0->ipywidgets>=7.5.1->python_tools>=0.0.1->graph-tools==1.0.0) (0.5.1)\n",
      "Requirement already satisfied: entrypoints>=0.2.2 in /usr/local/lib/python3.6/dist-packages (from nbconvert->notebook>=4.4.1->widgetsnbextension~=3.5.0->ipywidgets>=7.5.1->python_tools>=0.0.1->graph-tools==1.0.0) (0.3)\n",
      "Requirement already satisfied: pandocfilters>=1.4.1 in /usr/local/lib/python3.6/dist-packages (from nbconvert->notebook>=4.4.1->widgetsnbextension~=3.5.0->ipywidgets>=7.5.1->python_tools>=0.0.1->graph-tools==1.0.0) (1.4.3)\n",
      "Requirement already satisfied: jupyterlab-pygments in /usr/local/lib/python3.6/dist-packages (from nbconvert->notebook>=4.4.1->widgetsnbextension~=3.5.0->ipywidgets>=7.5.1->python_tools>=0.0.1->graph-tools==1.0.0) (0.1.2)\n",
      "Requirement already satisfied: mistune<2,>=0.8.1 in /usr/local/lib/python3.6/dist-packages (from nbconvert->notebook>=4.4.1->widgetsnbextension~=3.5.0->ipywidgets>=7.5.1->python_tools>=0.0.1->graph-tools==1.0.0) (0.8.4)\n",
      "Requirement already satisfied: defusedxml in /usr/local/lib/python3.6/dist-packages (from nbconvert->notebook>=4.4.1->widgetsnbextension~=3.5.0->ipywidgets>=7.5.1->python_tools>=0.0.1->graph-tools==1.0.0) (0.6.0)\n",
      "Requirement already satisfied: pycparser in /usr/local/lib/python3.6/dist-packages (from cffi>=1.0.0->argon2-cffi->notebook>=4.4.1->widgetsnbextension~=3.5.0->ipywidgets>=7.5.1->python_tools>=0.0.1->graph-tools==1.0.0) (2.20)\n",
      "Requirement already satisfied: nest-asyncio in /usr/local/lib/python3.6/dist-packages (from nbclient<0.6.0,>=0.5.0->nbconvert->notebook>=4.4.1->widgetsnbextension~=3.5.0->ipywidgets>=7.5.1->python_tools>=0.0.1->graph-tools==1.0.0) (1.4.3)\n",
      "Requirement already satisfied: async-generator in /usr/local/lib/python3.6/dist-packages (from nbclient<0.6.0,>=0.5.0->nbconvert->notebook>=4.4.1->widgetsnbextension~=3.5.0->ipywidgets>=7.5.1->python_tools>=0.0.1->graph-tools==1.0.0) (1.10)\n",
      "Requirement already satisfied: webencodings in /usr/local/lib/python3.6/dist-packages (from bleach->nbconvert->notebook>=4.4.1->widgetsnbextension~=3.5.0->ipywidgets>=7.5.1->python_tools>=0.0.1->graph-tools==1.0.0) (0.5.1)\n",
      "Installing collected packages: graph-tools\n",
      "  Running setup.py develop for graph-tools\n",
      "Successfully installed graph-tools\n",
      "\u001b[33mWARNING: Running pip as the 'root' user can result in broken permissions and conflicting behaviour with the system package manager. It is recommended to use a virtual environment instead: https://pip.pypa.io/warnings/venv\u001b[0m\n"
     ]
    }
   ],
   "source": [
    "!pip3 install -e ../graph_tools"
   ]
  },
  {
   "cell_type": "code",
   "execution_count": 22,
   "metadata": {},
   "outputs": [],
   "source": [
    "import graph_tools as gt"
   ]
  },
  {
   "cell_type": "code",
   "execution_count": 24,
   "metadata": {},
   "outputs": [
    {
     "data": {
      "text/plain": [
       "'/graph_tools/graph_tools/__init__.py'"
      ]
     },
     "execution_count": 24,
     "metadata": {},
     "output_type": "execute_result"
    }
   ],
   "source": [
    "gt.__file__"
   ]
  },
  {
   "cell_type": "code",
   "execution_count": 25,
   "metadata": {},
   "outputs": [],
   "source": [
    "from setuptools import find_packages"
   ]
  },
  {
   "cell_type": "code",
   "execution_count": 27,
   "metadata": {},
   "outputs": [
    {
     "data": {
      "text/plain": [
       "[]"
      ]
     },
     "execution_count": 27,
     "metadata": {},
     "output_type": "execute_result"
    }
   ],
   "source": [
    "find_packages(\"./graph_tools\")"
   ]
  },
  {
   "cell_type": "code",
   "execution_count": 28,
   "metadata": {},
   "outputs": [],
   "source": [
    "import python_tools as pt\n",
    "from python_tools import networkx_utils as xu"
   ]
  },
  {
   "cell_type": "code",
   "execution_count": 29,
   "metadata": {},
   "outputs": [
    {
     "data": {
      "text/plain": [
       "<module 'python_tools.networkx_utils' from '/python_tools/python_tools/networkx_utils.py'>"
      ]
     },
     "execution_count": 29,
     "metadata": {},
     "output_type": "execute_result"
    }
   ],
   "source": [
    "xu"
   ]
  },
  {
   "cell_type": "code",
   "execution_count": 30,
   "metadata": {},
   "outputs": [],
   "source": [
    "from graph_tools import epidemics_utils as eu"
   ]
  },
  {
   "cell_type": "code",
   "execution_count": null,
   "metadata": {},
   "outputs": [],
   "source": []
  }
 ],
 "metadata": {
  "kernelspec": {
   "display_name": "Python 3",
   "language": "python",
   "name": "python3"
  },
  "language_info": {
   "codemirror_mode": {
    "name": "ipython",
    "version": 3
   },
   "file_extension": ".py",
   "mimetype": "text/x-python",
   "name": "python",
   "nbconvert_exporter": "python",
   "pygments_lexer": "ipython3",
   "version": "3.6.9"
  }
 },
 "nbformat": 4,
 "nbformat_minor": 4
}
